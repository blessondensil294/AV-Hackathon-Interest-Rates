{
  "nbformat": 4,
  "nbformat_minor": 0,
  "metadata": {
    "colab": {
      "name": "AV Hackathon Interest Rate Category Prediction.ipynb",
      "provenance": [],
      "toc_visible": true,
      "authorship_tag": "ABX9TyNrumfbOaJmAEkateBQsYWX",
      "include_colab_link": true
    },
    "kernelspec": {
      "name": "python3",
      "display_name": "Python 3"
    }
  },
  "cells": [
    {
      "cell_type": "markdown",
      "metadata": {
        "id": "view-in-github",
        "colab_type": "text"
      },
      "source": [
        "<a href=\"https://colab.research.google.com/github/blessondensil294/AV-Hackathon-Interest-Rates/blob/master/AV_Hackathon_Interest_Rate_Category_Prediction.ipynb\" target=\"_parent\"><img src=\"https://colab.research.google.com/assets/colab-badge.svg\" alt=\"Open In Colab\"/></a>"
      ]
    },
    {
      "cell_type": "markdown",
      "metadata": {
        "id": "sRo8BpIATEe6",
        "colab_type": "text"
      },
      "source": [
        "# JanataHack: Machine Learning for Banking"
      ]
    },
    {
      "cell_type": "markdown",
      "metadata": {
        "id": "dRD3tte7TIs2",
        "colab_type": "text"
      },
      "source": [
        "Banks offer various kinds of accounts and provide loans based on the requirements. Apart from it, there are other various activities like investments in market and different funds. Overall, the banking sector has a wide impact on the economy directly and indirectly.\n",
        "\n",
        "There are many banks across the globe that are leveraging machine learning and AI in their daily routine and getting benefits out of it.\n",
        "\n",
        "For example, top banks in the US like JPMorgan, Wells Fargo, Bank of America, City Bank and US banks are already using machine learning to provide various facilities to customers as well as for risk prevention and detection. Some of the applications include:\n",
        "\n",
        "1. Customer Support\n",
        "\n",
        "2. Fraud Detection\n",
        "\n",
        "3. Risk Modelling\n",
        "\n",
        "4. Marketing Analytics\n",
        "\n",
        "5. Customer Segmentation"
      ]
    },
    {
      "cell_type": "markdown",
      "metadata": {
        "id": "H3MxULsxTM1L",
        "colab_type": "text"
      },
      "source": [
        "Have you ever wondered how lenders use various factors such as credit score, annual income, the loan amount approved, tenure, debt-to-income ratio etc. and select your interest rates? \n",
        "\n",
        "The process, defined as ‘risk-based pricing’, uses a sophisticated algorithm that leverages different determining factors of a loan applicant. Selection of significant factors will help develop a prediction algorithm which can estimate loan interest rates based on clients’ information. On one hand, knowing the factors will help consumers and borrowers to increase their credit worthiness and place themselves in a better position to negotiate for getting a lower interest rate. On the other hand, this will help lending companies to get an immediate fixed interest rate estimation based on clients information. Here, your goal is to use a training dataset to predict the loan rate category (1 / 2 / 3) that will be assigned to each loan in our test set.\n",
        "\n",
        "You can use any combination of the features in the dataset to make your loan rate category predictions. Some features will be easier to use than others."
      ]
    },
    {
      "cell_type": "markdown",
      "metadata": {
        "id": "_O3x9N7XTRiD",
        "colab_type": "text"
      },
      "source": [
        "\n",
        "Variable - Definition\n",
        "\n",
        "Loan_ID - A unique id for the loan.\n",
        "\n",
        "Loan_Amount_Requested - The listed amount of the loan applied for by the borrower.\n",
        "\n",
        "Length_Employed - Employment length in years\n",
        "\n",
        "Home_Owner - The home ownership status provided by the borrower during registration. Values are: Rent, Own, Mortgage, Other.\n",
        "\n",
        "Annual_Income - The annual income provided by the borrower during registration.\n",
        "\n",
        "Income_Verified - Indicates if income was verified, not verified, or if the income source was verified\n",
        "\n",
        "Purpose_Of_Loan - A category provided by the borrower for the loan request. \n",
        "\n",
        "Debt_To_Income - A ratio calculated using the borrower’s total monthly debt payments on the total debt obligations, excluding mortgage and the requested loan, divided by the borrower’s self-reported monthly income.\n",
        "\n",
        "Inquiries_Last_6Mo - The number of inquiries by creditors during the past 6 months.\n",
        "\n",
        "Months_Since_Deliquency - The number of months since the borrower's last delinquency.\n",
        "\n",
        "Number_Open_Accounts - The number of open credit lines in the borrower's credit file.\n",
        "\n",
        "Total_Accounts - The total number of credit lines currently in the borrower's credit file\n",
        "\n",
        "Gender - Gender\n",
        "\n",
        "Interest_Rate - Target Variable: Interest Rate category (1/2/3) of the loan application"
      ]
    },
    {
      "cell_type": "markdown",
      "metadata": {
        "id": "4aVMRnmmTn8I",
        "colab_type": "text"
      },
      "source": [
        "## Load the Data From Github"
      ]
    },
    {
      "cell_type": "code",
      "metadata": {
        "id": "IsaMQ6ZSTtoi",
        "colab_type": "code",
        "colab": {}
      },
      "source": [
        "import numpy as np\n",
        "import pandas as pd\n",
        "df_Test_url = 'https://raw.githubusercontent.com/blessondensil294/AV-Hackathon-Interest-Rates/master/Data/test_fjtUOL8.csv'\n",
        "df_Train_url = 'https://raw.githubusercontent.com/blessondensil294/AV-Hackathon-Interest-Rates/master/Data/train_fNxu4vz.csv'\n",
        "df_Train = pd.read_csv(df_Train_url)\n",
        "df_Test = pd.read_csv(df_Test_url)"
      ],
      "execution_count": 0,
      "outputs": []
    },
    {
      "cell_type": "markdown",
      "metadata": {
        "id": "uBg8NgWsUPjM",
        "colab_type": "text"
      },
      "source": [
        "## Exploratory Data Analysis"
      ]
    },
    {
      "cell_type": "code",
      "metadata": {
        "id": "ig4AwLwZUUaw",
        "colab_type": "code",
        "colab": {
          "base_uri": "https://localhost:8080/",
          "height": 284
        },
        "outputId": "15d6d444-0ee6-4787-a1e0-173b5d1a88e7"
      },
      "source": [
        "df_Train.head()"
      ],
      "execution_count": 2,
      "outputs": [
        {
          "output_type": "execute_result",
          "data": {
            "text/html": [
              "<div>\n",
              "<style scoped>\n",
              "    .dataframe tbody tr th:only-of-type {\n",
              "        vertical-align: middle;\n",
              "    }\n",
              "\n",
              "    .dataframe tbody tr th {\n",
              "        vertical-align: top;\n",
              "    }\n",
              "\n",
              "    .dataframe thead th {\n",
              "        text-align: right;\n",
              "    }\n",
              "</style>\n",
              "<table border=\"1\" class=\"dataframe\">\n",
              "  <thead>\n",
              "    <tr style=\"text-align: right;\">\n",
              "      <th></th>\n",
              "      <th>Loan_ID</th>\n",
              "      <th>Loan_Amount_Requested</th>\n",
              "      <th>Length_Employed</th>\n",
              "      <th>Home_Owner</th>\n",
              "      <th>Annual_Income</th>\n",
              "      <th>Income_Verified</th>\n",
              "      <th>Purpose_Of_Loan</th>\n",
              "      <th>Debt_To_Income</th>\n",
              "      <th>Inquiries_Last_6Mo</th>\n",
              "      <th>Months_Since_Deliquency</th>\n",
              "      <th>Number_Open_Accounts</th>\n",
              "      <th>Total_Accounts</th>\n",
              "      <th>Gender</th>\n",
              "      <th>Interest_Rate</th>\n",
              "    </tr>\n",
              "  </thead>\n",
              "  <tbody>\n",
              "    <tr>\n",
              "      <th>0</th>\n",
              "      <td>10000001</td>\n",
              "      <td>7,000</td>\n",
              "      <td>&lt; 1 year</td>\n",
              "      <td>Rent</td>\n",
              "      <td>68000.0</td>\n",
              "      <td>not verified</td>\n",
              "      <td>car</td>\n",
              "      <td>18.37</td>\n",
              "      <td>0</td>\n",
              "      <td>NaN</td>\n",
              "      <td>9</td>\n",
              "      <td>14</td>\n",
              "      <td>Female</td>\n",
              "      <td>1</td>\n",
              "    </tr>\n",
              "    <tr>\n",
              "      <th>1</th>\n",
              "      <td>10000002</td>\n",
              "      <td>30,000</td>\n",
              "      <td>4 years</td>\n",
              "      <td>Mortgage</td>\n",
              "      <td>NaN</td>\n",
              "      <td>VERIFIED - income</td>\n",
              "      <td>debt_consolidation</td>\n",
              "      <td>14.93</td>\n",
              "      <td>0</td>\n",
              "      <td>17.0</td>\n",
              "      <td>12</td>\n",
              "      <td>24</td>\n",
              "      <td>Female</td>\n",
              "      <td>3</td>\n",
              "    </tr>\n",
              "    <tr>\n",
              "      <th>2</th>\n",
              "      <td>10000003</td>\n",
              "      <td>24,725</td>\n",
              "      <td>7 years</td>\n",
              "      <td>Mortgage</td>\n",
              "      <td>75566.4</td>\n",
              "      <td>VERIFIED - income source</td>\n",
              "      <td>debt_consolidation</td>\n",
              "      <td>15.88</td>\n",
              "      <td>0</td>\n",
              "      <td>NaN</td>\n",
              "      <td>12</td>\n",
              "      <td>16</td>\n",
              "      <td>Male</td>\n",
              "      <td>3</td>\n",
              "    </tr>\n",
              "    <tr>\n",
              "      <th>3</th>\n",
              "      <td>10000004</td>\n",
              "      <td>16,000</td>\n",
              "      <td>&lt; 1 year</td>\n",
              "      <td>NaN</td>\n",
              "      <td>56160.0</td>\n",
              "      <td>VERIFIED - income source</td>\n",
              "      <td>debt_consolidation</td>\n",
              "      <td>14.34</td>\n",
              "      <td>3</td>\n",
              "      <td>NaN</td>\n",
              "      <td>16</td>\n",
              "      <td>22</td>\n",
              "      <td>Male</td>\n",
              "      <td>3</td>\n",
              "    </tr>\n",
              "    <tr>\n",
              "      <th>4</th>\n",
              "      <td>10000005</td>\n",
              "      <td>17,000</td>\n",
              "      <td>8 years</td>\n",
              "      <td>Own</td>\n",
              "      <td>96000.0</td>\n",
              "      <td>VERIFIED - income source</td>\n",
              "      <td>debt_consolidation</td>\n",
              "      <td>22.17</td>\n",
              "      <td>1</td>\n",
              "      <td>NaN</td>\n",
              "      <td>19</td>\n",
              "      <td>30</td>\n",
              "      <td>Female</td>\n",
              "      <td>1</td>\n",
              "    </tr>\n",
              "  </tbody>\n",
              "</table>\n",
              "</div>"
            ],
            "text/plain": [
              "    Loan_ID Loan_Amount_Requested  ...  Gender Interest_Rate\n",
              "0  10000001                 7,000  ...  Female             1\n",
              "1  10000002                30,000  ...  Female             3\n",
              "2  10000003                24,725  ...    Male             3\n",
              "3  10000004                16,000  ...    Male             3\n",
              "4  10000005                17,000  ...  Female             1\n",
              "\n",
              "[5 rows x 14 columns]"
            ]
          },
          "metadata": {
            "tags": []
          },
          "execution_count": 2
        }
      ]
    },
    {
      "cell_type": "code",
      "metadata": {
        "id": "E_EanUcpUZLs",
        "colab_type": "code",
        "colab": {
          "base_uri": "https://localhost:8080/",
          "height": 287
        },
        "outputId": "6adb1c5e-9921-4ac8-e571-e50be5f1035b"
      },
      "source": [
        "df_Train.describe()"
      ],
      "execution_count": 3,
      "outputs": [
        {
          "output_type": "execute_result",
          "data": {
            "text/html": [
              "<div>\n",
              "<style scoped>\n",
              "    .dataframe tbody tr th:only-of-type {\n",
              "        vertical-align: middle;\n",
              "    }\n",
              "\n",
              "    .dataframe tbody tr th {\n",
              "        vertical-align: top;\n",
              "    }\n",
              "\n",
              "    .dataframe thead th {\n",
              "        text-align: right;\n",
              "    }\n",
              "</style>\n",
              "<table border=\"1\" class=\"dataframe\">\n",
              "  <thead>\n",
              "    <tr style=\"text-align: right;\">\n",
              "      <th></th>\n",
              "      <th>Loan_ID</th>\n",
              "      <th>Annual_Income</th>\n",
              "      <th>Debt_To_Income</th>\n",
              "      <th>Inquiries_Last_6Mo</th>\n",
              "      <th>Months_Since_Deliquency</th>\n",
              "      <th>Number_Open_Accounts</th>\n",
              "      <th>Total_Accounts</th>\n",
              "      <th>Interest_Rate</th>\n",
              "    </tr>\n",
              "  </thead>\n",
              "  <tbody>\n",
              "    <tr>\n",
              "      <th>count</th>\n",
              "      <td>1.643090e+05</td>\n",
              "      <td>1.392070e+05</td>\n",
              "      <td>164309.000000</td>\n",
              "      <td>164309.000000</td>\n",
              "      <td>75930.000000</td>\n",
              "      <td>164309.000000</td>\n",
              "      <td>164309.000000</td>\n",
              "      <td>164309.000000</td>\n",
              "    </tr>\n",
              "    <tr>\n",
              "      <th>mean</th>\n",
              "      <td>1.008216e+07</td>\n",
              "      <td>7.333116e+04</td>\n",
              "      <td>17.207189</td>\n",
              "      <td>0.781698</td>\n",
              "      <td>34.229356</td>\n",
              "      <td>11.193818</td>\n",
              "      <td>25.067665</td>\n",
              "      <td>2.158951</td>\n",
              "    </tr>\n",
              "    <tr>\n",
              "      <th>std</th>\n",
              "      <td>4.743207e+04</td>\n",
              "      <td>6.037750e+04</td>\n",
              "      <td>7.845083</td>\n",
              "      <td>1.034747</td>\n",
              "      <td>21.761180</td>\n",
              "      <td>4.991813</td>\n",
              "      <td>11.583067</td>\n",
              "      <td>0.738364</td>\n",
              "    </tr>\n",
              "    <tr>\n",
              "      <th>min</th>\n",
              "      <td>1.000000e+07</td>\n",
              "      <td>4.000000e+03</td>\n",
              "      <td>0.000000</td>\n",
              "      <td>0.000000</td>\n",
              "      <td>0.000000</td>\n",
              "      <td>0.000000</td>\n",
              "      <td>2.000000</td>\n",
              "      <td>1.000000</td>\n",
              "    </tr>\n",
              "    <tr>\n",
              "      <th>25%</th>\n",
              "      <td>1.004108e+07</td>\n",
              "      <td>4.500000e+04</td>\n",
              "      <td>11.370000</td>\n",
              "      <td>0.000000</td>\n",
              "      <td>16.000000</td>\n",
              "      <td>8.000000</td>\n",
              "      <td>17.000000</td>\n",
              "      <td>2.000000</td>\n",
              "    </tr>\n",
              "    <tr>\n",
              "      <th>50%</th>\n",
              "      <td>1.008216e+07</td>\n",
              "      <td>6.300000e+04</td>\n",
              "      <td>16.840000</td>\n",
              "      <td>0.000000</td>\n",
              "      <td>31.000000</td>\n",
              "      <td>10.000000</td>\n",
              "      <td>23.000000</td>\n",
              "      <td>2.000000</td>\n",
              "    </tr>\n",
              "    <tr>\n",
              "      <th>75%</th>\n",
              "      <td>1.012323e+07</td>\n",
              "      <td>8.869750e+04</td>\n",
              "      <td>22.780000</td>\n",
              "      <td>1.000000</td>\n",
              "      <td>50.000000</td>\n",
              "      <td>14.000000</td>\n",
              "      <td>32.000000</td>\n",
              "      <td>3.000000</td>\n",
              "    </tr>\n",
              "    <tr>\n",
              "      <th>max</th>\n",
              "      <td>1.016431e+07</td>\n",
              "      <td>7.500000e+06</td>\n",
              "      <td>39.990000</td>\n",
              "      <td>8.000000</td>\n",
              "      <td>180.000000</td>\n",
              "      <td>76.000000</td>\n",
              "      <td>156.000000</td>\n",
              "      <td>3.000000</td>\n",
              "    </tr>\n",
              "  </tbody>\n",
              "</table>\n",
              "</div>"
            ],
            "text/plain": [
              "            Loan_ID  Annual_Income  ...  Total_Accounts  Interest_Rate\n",
              "count  1.643090e+05   1.392070e+05  ...   164309.000000  164309.000000\n",
              "mean   1.008216e+07   7.333116e+04  ...       25.067665       2.158951\n",
              "std    4.743207e+04   6.037750e+04  ...       11.583067       0.738364\n",
              "min    1.000000e+07   4.000000e+03  ...        2.000000       1.000000\n",
              "25%    1.004108e+07   4.500000e+04  ...       17.000000       2.000000\n",
              "50%    1.008216e+07   6.300000e+04  ...       23.000000       2.000000\n",
              "75%    1.012323e+07   8.869750e+04  ...       32.000000       3.000000\n",
              "max    1.016431e+07   7.500000e+06  ...      156.000000       3.000000\n",
              "\n",
              "[8 rows x 8 columns]"
            ]
          },
          "metadata": {
            "tags": []
          },
          "execution_count": 3
        }
      ]
    },
    {
      "cell_type": "code",
      "metadata": {
        "id": "U5gfBn1BUbP7",
        "colab_type": "code",
        "colab": {
          "base_uri": "https://localhost:8080/",
          "height": 367
        },
        "outputId": "310a6cf2-ada8-4166-ae0a-bbaffd493578"
      },
      "source": [
        "df_Train.info()"
      ],
      "execution_count": 4,
      "outputs": [
        {
          "output_type": "stream",
          "text": [
            "<class 'pandas.core.frame.DataFrame'>\n",
            "RangeIndex: 164309 entries, 0 to 164308\n",
            "Data columns (total 14 columns):\n",
            " #   Column                   Non-Null Count   Dtype  \n",
            "---  ------                   --------------   -----  \n",
            " 0   Loan_ID                  164309 non-null  int64  \n",
            " 1   Loan_Amount_Requested    164309 non-null  object \n",
            " 2   Length_Employed          156938 non-null  object \n",
            " 3   Home_Owner               138960 non-null  object \n",
            " 4   Annual_Income            139207 non-null  float64\n",
            " 5   Income_Verified          164309 non-null  object \n",
            " 6   Purpose_Of_Loan          164309 non-null  object \n",
            " 7   Debt_To_Income           164309 non-null  float64\n",
            " 8   Inquiries_Last_6Mo       164309 non-null  int64  \n",
            " 9   Months_Since_Deliquency  75930 non-null   float64\n",
            " 10  Number_Open_Accounts     164309 non-null  int64  \n",
            " 11  Total_Accounts           164309 non-null  int64  \n",
            " 12  Gender                   164309 non-null  object \n",
            " 13  Interest_Rate            164309 non-null  int64  \n",
            "dtypes: float64(3), int64(5), object(6)\n",
            "memory usage: 17.6+ MB\n"
          ],
          "name": "stdout"
        }
      ]
    },
    {
      "cell_type": "code",
      "metadata": {
        "id": "xHoQfBYhUeau",
        "colab_type": "code",
        "colab": {
          "base_uri": "https://localhost:8080/",
          "height": 100
        },
        "outputId": "c325f433-3071-4783-aa43-a5dfb5e61776"
      },
      "source": [
        "df_Train.columns"
      ],
      "execution_count": 5,
      "outputs": [
        {
          "output_type": "execute_result",
          "data": {
            "text/plain": [
              "Index(['Loan_ID', 'Loan_Amount_Requested', 'Length_Employed', 'Home_Owner',\n",
              "       'Annual_Income', 'Income_Verified', 'Purpose_Of_Loan', 'Debt_To_Income',\n",
              "       'Inquiries_Last_6Mo', 'Months_Since_Deliquency', 'Number_Open_Accounts',\n",
              "       'Total_Accounts', 'Gender', 'Interest_Rate'],\n",
              "      dtype='object')"
            ]
          },
          "metadata": {
            "tags": []
          },
          "execution_count": 5
        }
      ]
    },
    {
      "cell_type": "code",
      "metadata": {
        "id": "3OHAWUDbUjXh",
        "colab_type": "code",
        "colab": {
          "base_uri": "https://localhost:8080/",
          "height": 33
        },
        "outputId": "2f54a041-3502-452c-b8b1-5737eb347380"
      },
      "source": [
        "df_Train.shape"
      ],
      "execution_count": 6,
      "outputs": [
        {
          "output_type": "execute_result",
          "data": {
            "text/plain": [
              "(164309, 14)"
            ]
          },
          "metadata": {
            "tags": []
          },
          "execution_count": 6
        }
      ]
    },
    {
      "cell_type": "code",
      "metadata": {
        "id": "hfUG62LAUubo",
        "colab_type": "code",
        "colab": {
          "base_uri": "https://localhost:8080/",
          "height": 33
        },
        "outputId": "c9c40f6e-12d4-4404-a9ad-884e5142fb22"
      },
      "source": [
        "df_Test.shape"
      ],
      "execution_count": 8,
      "outputs": [
        {
          "output_type": "execute_result",
          "data": {
            "text/plain": [
              "(109541, 13)"
            ]
          },
          "metadata": {
            "tags": []
          },
          "execution_count": 8
        }
      ]
    },
    {
      "cell_type": "code",
      "metadata": {
        "id": "EL312j-4Ur_y",
        "colab_type": "code",
        "colab": {
          "base_uri": "https://localhost:8080/",
          "height": 267
        },
        "outputId": "a72ede38-1fe7-4fea-e56f-92a818ba5064"
      },
      "source": [
        "df_Train.isnull().sum()"
      ],
      "execution_count": 7,
      "outputs": [
        {
          "output_type": "execute_result",
          "data": {
            "text/plain": [
              "Loan_ID                        0\n",
              "Loan_Amount_Requested          0\n",
              "Length_Employed             7371\n",
              "Home_Owner                 25349\n",
              "Annual_Income              25102\n",
              "Income_Verified                0\n",
              "Purpose_Of_Loan                0\n",
              "Debt_To_Income                 0\n",
              "Inquiries_Last_6Mo             0\n",
              "Months_Since_Deliquency    88379\n",
              "Number_Open_Accounts           0\n",
              "Total_Accounts                 0\n",
              "Gender                         0\n",
              "Interest_Rate                  0\n",
              "dtype: int64"
            ]
          },
          "metadata": {
            "tags": []
          },
          "execution_count": 7
        }
      ]
    },
    {
      "cell_type": "markdown",
      "metadata": {
        "id": "yB-gN909VHKh",
        "colab_type": "text"
      },
      "source": [
        "## Feature Engineer"
      ]
    },
    {
      "cell_type": "markdown",
      "metadata": {
        "id": "Q2n-fnVeVeY-",
        "colab_type": "text"
      },
      "source": [
        "Drop the Loan ID Columns since its irrelevant"
      ]
    },
    {
      "cell_type": "code",
      "metadata": {
        "id": "QpX4vI4JVJPy",
        "colab_type": "code",
        "colab": {}
      },
      "source": [
        "df_Train = df_Train.drop(['Loan_ID'], axis=1)"
      ],
      "execution_count": 0,
      "outputs": []
    },
    {
      "cell_type": "markdown",
      "metadata": {
        "id": "E_XnVBHeVjfG",
        "colab_type": "text"
      },
      "source": [
        "### Drop Duplicates"
      ]
    },
    {
      "cell_type": "code",
      "metadata": {
        "id": "1MvfvvfnVV7T",
        "colab_type": "code",
        "colab": {
          "base_uri": "https://localhost:8080/",
          "height": 33
        },
        "outputId": "d8bea7dc-f7aa-4e01-eba3-8c82943be2b0"
      },
      "source": [
        "df_Train.shape"
      ],
      "execution_count": 10,
      "outputs": [
        {
          "output_type": "execute_result",
          "data": {
            "text/plain": [
              "(164309, 13)"
            ]
          },
          "metadata": {
            "tags": []
          },
          "execution_count": 10
        }
      ]
    },
    {
      "cell_type": "code",
      "metadata": {
        "id": "1snpSqRlVvan",
        "colab_type": "code",
        "colab": {}
      },
      "source": [
        "df_Train.drop_duplicates(keep='first', inplace=True)"
      ],
      "execution_count": 0,
      "outputs": []
    },
    {
      "cell_type": "markdown",
      "metadata": {
        "id": "X2YkOGW_W6s8",
        "colab_type": "text"
      },
      "source": [
        "### Fill Missing Values"
      ]
    },
    {
      "cell_type": "code",
      "metadata": {
        "id": "IwIvjnLWfbaj",
        "colab_type": "code",
        "colab": {}
      },
      "source": [
        "df_Train.isnull().sum()"
      ],
      "execution_count": 0,
      "outputs": []
    },
    {
      "cell_type": "code",
      "metadata": {
        "id": "ATKx8Mn6WMaZ",
        "colab_type": "code",
        "colab": {}
      },
      "source": [
        "df_Train['Home_Owner'] = df_Train['Home_Owner'].fillna('None')\n",
        "df_Test['Home_Owner'] = df_Test['Home_Owner'].fillna('None')\n",
        "df_Train['Home_Owner'] = df_Train['Home_Owner'].replace(to_replace='Other', value='None')\n",
        "df_Test['Home_Owner'] = df_Test['Home_Owner'].replace(to_replace='Other', value='None')\n",
        "df_Train['Length_Employed'] = df_Train['Length_Employed'].ffill()\n",
        "df_Test['Length_Employed'] = df_Test['Length_Employed'].ffill()\n",
        "df_Train['Annual_Income'] = df_Train['Annual_Income'].ffill()\n",
        "df_Test['Annual_Income'] = df_Test['Annual_Income'].ffill()\n",
        "df_Train['Months_Since_Deliquency'] = df_Train['Months_Since_Deliquency'].ffill()\n",
        "df_Train['Months_Since_Deliquency'] = df_Train['Months_Since_Deliquency'].bfill()\n",
        "df_Test['Months_Since_Deliquency'] = df_Test['Months_Since_Deliquency'].ffill()"
      ],
      "execution_count": 0,
      "outputs": []
    },
    {
      "cell_type": "markdown",
      "metadata": {
        "id": "JsEmWrOCqEhD",
        "colab_type": "text"
      },
      "source": [
        "### Outlier Detection"
      ]
    },
    {
      "cell_type": "markdown",
      "metadata": {
        "id": "IaqEus0bqK57",
        "colab_type": "text"
      },
      "source": [
        "Annual Income Columns Outlier Detections and Replace"
      ]
    },
    {
      "cell_type": "code",
      "metadata": {
        "id": "LgYx7uu4qxD6",
        "colab_type": "code",
        "colab": {
          "base_uri": "https://localhost:8080/",
          "height": 70
        },
        "outputId": "180c8a07-ebdb-4ae3-d654-1141ffbf6c16"
      },
      "source": [
        "import matplotlib.pyplot as plt\n",
        "import seaborn as sns\n",
        "%matplotlib inline"
      ],
      "execution_count": 6,
      "outputs": [
        {
          "output_type": "stream",
          "text": [
            "/usr/local/lib/python3.6/dist-packages/statsmodels/tools/_testing.py:19: FutureWarning: pandas.util.testing is deprecated. Use the functions in the public API at pandas.testing instead.\n",
            "  import pandas.util.testing as tm\n"
          ],
          "name": "stderr"
        }
      ]
    },
    {
      "cell_type": "code",
      "metadata": {
        "id": "x6nlHMU-qJJ5",
        "colab_type": "code",
        "colab": {
          "base_uri": "https://localhost:8080/",
          "height": 295
        },
        "outputId": "e9d27c3f-122e-4372-ffe8-948d664047ae"
      },
      "source": [
        "sns.boxplot(x=df_Train['Annual_Income'])\n",
        "plt.title('Annual Income Outlier Detection')\n",
        "plt.xlabel('Annual income')\n",
        "plt.show()"
      ],
      "execution_count": 12,
      "outputs": [
        {
          "output_type": "display_data",
          "data": {
            "image/png": "[encoded data removed]",
            "text/plain": [
              "<Figure size 432x288 with 1 Axes>"
            ]
          },
          "metadata": {
            "tags": [],
            "needs_background": "light"
          }
        }
      ]
    },
    {
      "cell_type": "code",
      "metadata": {
        "id": "HSJevVyorMh8",
        "colab_type": "code",
        "colab": {
          "base_uri": "https://localhost:8080/",
          "height": 167
        },
        "outputId": "701108eb-ea4e-4bca-d17a-f5f047a3bc19"
      },
      "source": [
        "df_Train['Annual_Income'].describe()"
      ],
      "execution_count": 13,
      "outputs": [
        {
          "output_type": "execute_result",
          "data": {
            "text/plain": [
              "count    1.643090e+05\n",
              "mean     7.325752e+04\n",
              "std      5.925473e+04\n",
              "min      4.000000e+03\n",
              "25%      4.500000e+04\n",
              "50%      6.300000e+04\n",
              "75%      8.844500e+04\n",
              "max      7.500000e+06\n",
              "Name: Annual_Income, dtype: float64"
            ]
          },
          "metadata": {
            "tags": []
          },
          "execution_count": 13
        }
      ]
    },
    {
      "cell_type": "markdown",
      "metadata": {
        "id": "s7mRubClfdsr",
        "colab_type": "text"
      },
      "source": [
        "### Scaling the Columns"
      ]
    },
    {
      "cell_type": "code",
      "metadata": {
        "id": "oinQxDbYfhQ2",
        "colab_type": "code",
        "colab": {}
      },
      "source": [
        "from sklearn import preprocessing\n",
        "mm_scaler = preprocessing.MinMaxScaler()"
      ],
      "execution_count": 0,
      "outputs": []
    },
    {
      "cell_type": "code",
      "metadata": {
        "id": "3hroHg8Ngm2p",
        "colab_type": "code",
        "colab": {
          "base_uri": "https://localhost:8080/",
          "height": 100
        },
        "outputId": "441d57c3-86bc-4758-da6a-7192c4c3e4dc"
      },
      "source": [
        "df_Train.columns"
      ],
      "execution_count": 9,
      "outputs": [
        {
          "output_type": "execute_result",
          "data": {
            "text/plain": [
              "Index(['Loan_Amount_Requested', 'Length_Employed', 'Home_Owner',\n",
              "       'Annual_Income', 'Income_Verified', 'Purpose_Of_Loan', 'Debt_To_Income',\n",
              "       'Inquiries_Last_6Mo', 'Months_Since_Deliquency', 'Number_Open_Accounts',\n",
              "       'Total_Accounts', 'Gender', 'Interest_Rate'],\n",
              "      dtype='object')"
            ]
          },
          "metadata": {
            "tags": []
          },
          "execution_count": 9
        }
      ]
    },
    {
      "cell_type": "markdown",
      "metadata": {
        "id": "_tbiAasegPVa",
        "colab_type": "text"
      },
      "source": [
        "Loan Amount Requested Colmn\n"
      ]
    },
    {
      "cell_type": "code",
      "metadata": {
        "id": "vE8dOpbOkls1",
        "colab_type": "code",
        "colab": {}
      },
      "source": [
        "df_Train['Loan_Amount_Requested'] = df_Train['Loan_Amount_Requested'].str.replace(',', '').astype(int)\n",
        "df_Test['Loan_Amount_Requested'] = df_Test['Loan_Amount_Requested'].str.replace(',', '').astype(int)"
      ],
      "execution_count": 0,
      "outputs": []
    },
    {
      "cell_type": "code",
      "metadata": {
        "id": "wGQpFjyigIUC",
        "colab_type": "code",
        "colab": {
          "base_uri": "https://localhost:8080/",
          "height": 280
        },
        "outputId": "00442aaf-ee17-4d01-8af1-c345e3f919df"
      },
      "source": [
        "sns.distplot(df_Train['Loan_Amount_Requested'])\n",
        "plt.show()"
      ],
      "execution_count": 11,
      "outputs": [
        {
          "output_type": "display_data",
          "data": {
            "image/png": "[encoded data removed]",
            "text/plain": [
              "<Figure size 432x288 with 1 Axes>"
            ]
          },
          "metadata": {
            "tags": [],
            "needs_background": "light"
          }
        }
      ]
    },
    {
      "cell_type": "code",
      "metadata": {
        "id": "OVTItDslgwWN",
        "colab_type": "code",
        "colab": {}
      },
      "source": [
        "df_Train[['Loan_Amount_Requested']] = mm_scaler.fit_transform(df_Train[['Loan_Amount_Requested']])\n",
        "df_Test[['Loan_Amount_Requested']] = mm_scaler.fit_transform(df_Test[['Loan_Amount_Requested']])"
      ],
      "execution_count": 0,
      "outputs": []
    },
    {
      "cell_type": "markdown",
      "metadata": {
        "id": "z2RFaiUwiFhP",
        "colab_type": "text"
      },
      "source": [
        "Annual Income Columns"
      ]
    },
    {
      "cell_type": "code",
      "metadata": {
        "id": "2ZtuOwFZiK6C",
        "colab_type": "code",
        "colab": {
          "base_uri": "https://localhost:8080/",
          "height": 295
        },
        "outputId": "ddd984ad-2f59-455c-d8c1-a7739ebc5fa6"
      },
      "source": [
        "sns.distplot(df_Train['Annual_Income'])\n",
        "plt.xlabel('Annual Income')\n",
        "plt.ylabel('Count')\n",
        "plt.title('Annual Income Count')\n",
        "plt.show()"
      ],
      "execution_count": 50,
      "outputs": [
        {
          "output_type": "display_data",
          "data": {
            "image/png": "[encoded data removed]",
            "text/plain": [
              "<Figure size 432x288 with 1 Axes>"
            ]
          },
          "metadata": {
            "tags": [],
            "needs_background": "light"
          }
        }
      ]
    },
    {
      "cell_type": "code",
      "metadata": {
        "id": "txKQ2mGsiQin",
        "colab_type": "code",
        "colab": {}
      },
      "source": [
        "df_Train[['Annual_Income']] = mm_scaler.fit_transform(df_Train[['Annual_Income']])\n",
        "df_Test[['Annual_Income']] = mm_scaler.fit_transform(df_Test[['Annual_Income']])"
      ],
      "execution_count": 0,
      "outputs": []
    }
  ]
}