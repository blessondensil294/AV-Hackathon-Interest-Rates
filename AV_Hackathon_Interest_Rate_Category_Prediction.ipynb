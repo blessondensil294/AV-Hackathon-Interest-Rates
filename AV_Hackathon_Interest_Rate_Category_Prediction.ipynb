{
  "nbformat": 4,
  "nbformat_minor": 0,
  "metadata": {
    "colab": {
      "name": "AV Hackathon Interest Rate Category Prediction.ipynb",
      "provenance": [],
      "toc_visible": true,
      "authorship_tag": "ABX9TyMU74GTyEvl/TGz4ykq7N84",
      "include_colab_link": true
    },
    "kernelspec": {
      "name": "python3",
      "display_name": "Python 3"
    }
  },
  "cells": [
    {
      "cell_type": "markdown",
      "metadata": {
        "id": "view-in-github",
        "colab_type": "text"
      },
      "source": [
        "<a href=\"https://colab.research.google.com/github/blessondensil294/AV-Hackathon-Interest-Rates/blob/master/AV_Hackathon_Interest_Rate_Category_Prediction.ipynb\" target=\"_parent\"><img src=\"https://colab.research.google.com/assets/colab-badge.svg\" alt=\"Open In Colab\"/></a>"
      ]
    },
    {
      "cell_type": "markdown",
      "metadata": {
        "id": "sRo8BpIATEe6",
        "colab_type": "text"
      },
      "source": [
        "# JanataHack: Machine Learning for Banking"
      ]
    },
    {
      "cell_type": "markdown",
      "metadata": {
        "id": "dRD3tte7TIs2",
        "colab_type": "text"
      },
      "source": [
        "Banks offer various kinds of accounts and provide loans based on the requirements. Apart from it, there are other various activities like investments in market and different funds. Overall, the banking sector has a wide impact on the economy directly and indirectly.\n",
        "\n",
        "There are many banks across the globe that are leveraging machine learning and AI in their daily routine and getting benefits out of it.\n",
        "\n",
        "For example, top banks in the US like JPMorgan, Wells Fargo, Bank of America, City Bank and US banks are already using machine learning to provide various facilities to customers as well as for risk prevention and detection. Some of the applications include:\n",
        "\n",
        "1. Customer Support\n",
        "\n",
        "2. Fraud Detection\n",
        "\n",
        "3. Risk Modelling\n",
        "\n",
        "4. Marketing Analytics\n",
        "\n",
        "5. Customer Segmentation"
      ]
    },
    {
      "cell_type": "markdown",
      "metadata": {
        "id": "H3MxULsxTM1L",
        "colab_type": "text"
      },
      "source": [
        "Have you ever wondered how lenders use various factors such as credit score, annual income, the loan amount approved, tenure, debt-to-income ratio etc. and select your interest rates? \n",
        "\n",
        "The process, defined as ‘risk-based pricing’, uses a sophisticated algorithm that leverages different determining factors of a loan applicant. Selection of significant factors will help develop a prediction algorithm which can estimate loan interest rates based on clients’ information. On one hand, knowing the factors will help consumers and borrowers to increase their credit worthiness and place themselves in a better position to negotiate for getting a lower interest rate. On the other hand, this will help lending companies to get an immediate fixed interest rate estimation based on clients information. Here, your goal is to use a training dataset to predict the loan rate category (1 / 2 / 3) that will be assigned to each loan in our test set.\n",
        "\n",
        "You can use any combination of the features in the dataset to make your loan rate category predictions. Some features will be easier to use than others."
      ]
    },
    {
      "cell_type": "markdown",
      "metadata": {
        "id": "_O3x9N7XTRiD",
        "colab_type": "text"
      },
      "source": [
        "\n",
        "Variable - Definition\n",
        "\n",
        "Loan_ID - A unique id for the loan.\n",
        "\n",
        "Loan_Amount_Requested - The listed amount of the loan applied for by the borrower.\n",
        "\n",
        "Length_Employed - Employment length in years\n",
        "\n",
        "Home_Owner - The home ownership status provided by the borrower during registration. Values are: Rent, Own, Mortgage, Other.\n",
        "\n",
        "Annual_Income - The annual income provided by the borrower during registration.\n",
        "\n",
        "Income_Verified - Indicates if income was verified, not verified, or if the income source was verified\n",
        "\n",
        "Purpose_Of_Loan - A category provided by the borrower for the loan request. \n",
        "\n",
        "Debt_To_Income - A ratio calculated using the borrower’s total monthly debt payments on the total debt obligations, excluding mortgage and the requested loan, divided by the borrower’s self-reported monthly income.\n",
        "\n",
        "Inquiries_Last_6Mo - The number of inquiries by creditors during the past 6 months.\n",
        "\n",
        "Months_Since_Deliquency - The number of months since the borrower's last delinquency.\n",
        "\n",
        "Number_Open_Accounts - The number of open credit lines in the borrower's credit file.\n",
        "\n",
        "Total_Accounts - The total number of credit lines currently in the borrower's credit file\n",
        "\n",
        "Gender - Gender\n",
        "\n",
        "Interest_Rate - Target Variable: Interest Rate category (1/2/3) of the loan application"
      ]
    },
    {
      "cell_type": "markdown",
      "metadata": {
        "id": "4aVMRnmmTn8I",
        "colab_type": "text"
      },
      "source": [
        "## Load the Data From Github"
      ]
    },
    {
      "cell_type": "code",
      "metadata": {
        "id": "IsaMQ6ZSTtoi",
        "colab_type": "code",
        "colab": {}
      },
      "source": [
        "import numpy as np\n",
        "import pandas as pd\n",
        "df_Test_url = 'https://raw.githubusercontent.com/blessondensil294/AV-Hackathon-Interest-Rates/master/Data/test_fjtUOL8.csv'\n",
        "df_Train_url = 'https://raw.githubusercontent.com/blessondensil294/AV-Hackathon-Interest-Rates/master/Data/train_fNxu4vz.csv'\n",
        "df_Train = pd.read_csv(df_Train_url)\n",
        "df_Test = pd.read_csv(df_Test_url)"
      ],
      "execution_count": 0,
      "outputs": []
    },
    {
      "cell_type": "markdown",
      "metadata": {
        "id": "uBg8NgWsUPjM",
        "colab_type": "text"
      },
      "source": [
        "## Exploratory Data Analysis"
      ]
    },
    {
      "cell_type": "code",
      "metadata": {
        "id": "ig4AwLwZUUaw",
        "colab_type": "code",
        "colab": {
          "base_uri": "https://localhost:8080/",
          "height": 284
        },
        "outputId": "15d6d444-0ee6-4787-a1e0-173b5d1a88e7"
      },
      "source": [
        "df_Train.head()"
      ],
      "execution_count": 2,
      "outputs": [
        {
          "output_type": "execute_result",
          "data": {
            "text/html": [
              "<div>\n",
              "<style scoped>\n",
              "    .dataframe tbody tr th:only-of-type {\n",
              "        vertical-align: middle;\n",
              "    }\n",
              "\n",
              "    .dataframe tbody tr th {\n",
              "        vertical-align: top;\n",
              "    }\n",
              "\n",
              "    .dataframe thead th {\n",
              "        text-align: right;\n",
              "    }\n",
              "</style>\n",
              "<table border=\"1\" class=\"dataframe\">\n",
              "  <thead>\n",
              "    <tr style=\"text-align: right;\">\n",
              "      <th></th>\n",
              "      <th>Loan_ID</th>\n",
              "      <th>Loan_Amount_Requested</th>\n",
              "      <th>Length_Employed</th>\n",
              "      <th>Home_Owner</th>\n",
              "      <th>Annual_Income</th>\n",
              "      <th>Income_Verified</th>\n",
              "      <th>Purpose_Of_Loan</th>\n",
              "      <th>Debt_To_Income</th>\n",
              "      <th>Inquiries_Last_6Mo</th>\n",
              "      <th>Months_Since_Deliquency</th>\n",
              "      <th>Number_Open_Accounts</th>\n",
              "      <th>Total_Accounts</th>\n",
              "      <th>Gender</th>\n",
              "      <th>Interest_Rate</th>\n",
              "    </tr>\n",
              "  </thead>\n",
              "  <tbody>\n",
              "    <tr>\n",
              "      <th>0</th>\n",
              "      <td>10000001</td>\n",
              "      <td>7,000</td>\n",
              "      <td>&lt; 1 year</td>\n",
              "      <td>Rent</td>\n",
              "      <td>68000.0</td>\n",
              "      <td>not verified</td>\n",
              "      <td>car</td>\n",
              "      <td>18.37</td>\n",
              "      <td>0</td>\n",
              "      <td>NaN</td>\n",
              "      <td>9</td>\n",
              "      <td>14</td>\n",
              "      <td>Female</td>\n",
              "      <td>1</td>\n",
              "    </tr>\n",
              "    <tr>\n",
              "      <th>1</th>\n",
              "      <td>10000002</td>\n",
              "      <td>30,000</td>\n",
              "      <td>4 years</td>\n",
              "      <td>Mortgage</td>\n",
              "      <td>NaN</td>\n",
              "      <td>VERIFIED - income</td>\n",
              "      <td>debt_consolidation</td>\n",
              "      <td>14.93</td>\n",
              "      <td>0</td>\n",
              "      <td>17.0</td>\n",
              "      <td>12</td>\n",
              "      <td>24</td>\n",
              "      <td>Female</td>\n",
              "      <td>3</td>\n",
              "    </tr>\n",
              "    <tr>\n",
              "      <th>2</th>\n",
              "      <td>10000003</td>\n",
              "      <td>24,725</td>\n",
              "      <td>7 years</td>\n",
              "      <td>Mortgage</td>\n",
              "      <td>75566.4</td>\n",
              "      <td>VERIFIED - income source</td>\n",
              "      <td>debt_consolidation</td>\n",
              "      <td>15.88</td>\n",
              "      <td>0</td>\n",
              "      <td>NaN</td>\n",
              "      <td>12</td>\n",
              "      <td>16</td>\n",
              "      <td>Male</td>\n",
              "      <td>3</td>\n",
              "    </tr>\n",
              "    <tr>\n",
              "      <th>3</th>\n",
              "      <td>10000004</td>\n",
              "      <td>16,000</td>\n",
              "      <td>&lt; 1 year</td>\n",
              "      <td>NaN</td>\n",
              "      <td>56160.0</td>\n",
              "      <td>VERIFIED - income source</td>\n",
              "      <td>debt_consolidation</td>\n",
              "      <td>14.34</td>\n",
              "      <td>3</td>\n",
              "      <td>NaN</td>\n",
              "      <td>16</td>\n",
              "      <td>22</td>\n",
              "      <td>Male</td>\n",
              "      <td>3</td>\n",
              "    </tr>\n",
              "    <tr>\n",
              "      <th>4</th>\n",
              "      <td>10000005</td>\n",
              "      <td>17,000</td>\n",
              "      <td>8 years</td>\n",
              "      <td>Own</td>\n",
              "      <td>96000.0</td>\n",
              "      <td>VERIFIED - income source</td>\n",
              "      <td>debt_consolidation</td>\n",
              "      <td>22.17</td>\n",
              "      <td>1</td>\n",
              "      <td>NaN</td>\n",
              "      <td>19</td>\n",
              "      <td>30</td>\n",
              "      <td>Female</td>\n",
              "      <td>1</td>\n",
              "    </tr>\n",
              "  </tbody>\n",
              "</table>\n",
              "</div>"
            ],
            "text/plain": [
              "    Loan_ID Loan_Amount_Requested  ...  Gender Interest_Rate\n",
              "0  10000001                 7,000  ...  Female             1\n",
              "1  10000002                30,000  ...  Female             3\n",
              "2  10000003                24,725  ...    Male             3\n",
              "3  10000004                16,000  ...    Male             3\n",
              "4  10000005                17,000  ...  Female             1\n",
              "\n",
              "[5 rows x 14 columns]"
            ]
          },
          "metadata": {
            "tags": []
          },
          "execution_count": 2
        }
      ]
    },
    {
      "cell_type": "code",
      "metadata": {
        "id": "E_EanUcpUZLs",
        "colab_type": "code",
        "colab": {
          "base_uri": "https://localhost:8080/",
          "height": 287
        },
        "outputId": "6adb1c5e-9921-4ac8-e571-e50be5f1035b"
      },
      "source": [
        "df_Train.describe()"
      ],
      "execution_count": 3,
      "outputs": [
        {
          "output_type": "execute_result",
          "data": {
            "text/html": [
              "<div>\n",
              "<style scoped>\n",
              "    .dataframe tbody tr th:only-of-type {\n",
              "        vertical-align: middle;\n",
              "    }\n",
              "\n",
              "    .dataframe tbody tr th {\n",
              "        vertical-align: top;\n",
              "    }\n",
              "\n",
              "    .dataframe thead th {\n",
              "        text-align: right;\n",
              "    }\n",
              "</style>\n",
              "<table border=\"1\" class=\"dataframe\">\n",
              "  <thead>\n",
              "    <tr style=\"text-align: right;\">\n",
              "      <th></th>\n",
              "      <th>Loan_ID</th>\n",
              "      <th>Annual_Income</th>\n",
              "      <th>Debt_To_Income</th>\n",
              "      <th>Inquiries_Last_6Mo</th>\n",
              "      <th>Months_Since_Deliquency</th>\n",
              "      <th>Number_Open_Accounts</th>\n",
              "      <th>Total_Accounts</th>\n",
              "      <th>Interest_Rate</th>\n",
              "    </tr>\n",
              "  </thead>\n",
              "  <tbody>\n",
              "    <tr>\n",
              "      <th>count</th>\n",
              "      <td>1.643090e+05</td>\n",
              "      <td>1.392070e+05</td>\n",
              "      <td>164309.000000</td>\n",
              "      <td>164309.000000</td>\n",
              "      <td>75930.000000</td>\n",
              "      <td>164309.000000</td>\n",
              "      <td>164309.000000</td>\n",
              "      <td>164309.000000</td>\n",
              "    </tr>\n",
              "    <tr>\n",
              "      <th>mean</th>\n",
              "      <td>1.008216e+07</td>\n",
              "      <td>7.333116e+04</td>\n",
              "      <td>17.207189</td>\n",
              "      <td>0.781698</td>\n",
              "      <td>34.229356</td>\n",
              "      <td>11.193818</td>\n",
              "      <td>25.067665</td>\n",
              "      <td>2.158951</td>\n",
              "    </tr>\n",
              "    <tr>\n",
              "      <th>std</th>\n",
              "      <td>4.743207e+04</td>\n",
              "      <td>6.037750e+04</td>\n",
              "      <td>7.845083</td>\n",
              "      <td>1.034747</td>\n",
              "      <td>21.761180</td>\n",
              "      <td>4.991813</td>\n",
              "      <td>11.583067</td>\n",
              "      <td>0.738364</td>\n",
              "    </tr>\n",
              "    <tr>\n",
              "      <th>min</th>\n",
              "      <td>1.000000e+07</td>\n",
              "      <td>4.000000e+03</td>\n",
              "      <td>0.000000</td>\n",
              "      <td>0.000000</td>\n",
              "      <td>0.000000</td>\n",
              "      <td>0.000000</td>\n",
              "      <td>2.000000</td>\n",
              "      <td>1.000000</td>\n",
              "    </tr>\n",
              "    <tr>\n",
              "      <th>25%</th>\n",
              "      <td>1.004108e+07</td>\n",
              "      <td>4.500000e+04</td>\n",
              "      <td>11.370000</td>\n",
              "      <td>0.000000</td>\n",
              "      <td>16.000000</td>\n",
              "      <td>8.000000</td>\n",
              "      <td>17.000000</td>\n",
              "      <td>2.000000</td>\n",
              "    </tr>\n",
              "    <tr>\n",
              "      <th>50%</th>\n",
              "      <td>1.008216e+07</td>\n",
              "      <td>6.300000e+04</td>\n",
              "      <td>16.840000</td>\n",
              "      <td>0.000000</td>\n",
              "      <td>31.000000</td>\n",
              "      <td>10.000000</td>\n",
              "      <td>23.000000</td>\n",
              "      <td>2.000000</td>\n",
              "    </tr>\n",
              "    <tr>\n",
              "      <th>75%</th>\n",
              "      <td>1.012323e+07</td>\n",
              "      <td>8.869750e+04</td>\n",
              "      <td>22.780000</td>\n",
              "      <td>1.000000</td>\n",
              "      <td>50.000000</td>\n",
              "      <td>14.000000</td>\n",
              "      <td>32.000000</td>\n",
              "      <td>3.000000</td>\n",
              "    </tr>\n",
              "    <tr>\n",
              "      <th>max</th>\n",
              "      <td>1.016431e+07</td>\n",
              "      <td>7.500000e+06</td>\n",
              "      <td>39.990000</td>\n",
              "      <td>8.000000</td>\n",
              "      <td>180.000000</td>\n",
              "      <td>76.000000</td>\n",
              "      <td>156.000000</td>\n",
              "      <td>3.000000</td>\n",
              "    </tr>\n",
              "  </tbody>\n",
              "</table>\n",
              "</div>"
            ],
            "text/plain": [
              "            Loan_ID  Annual_Income  ...  Total_Accounts  Interest_Rate\n",
              "count  1.643090e+05   1.392070e+05  ...   164309.000000  164309.000000\n",
              "mean   1.008216e+07   7.333116e+04  ...       25.067665       2.158951\n",
              "std    4.743207e+04   6.037750e+04  ...       11.583067       0.738364\n",
              "min    1.000000e+07   4.000000e+03  ...        2.000000       1.000000\n",
              "25%    1.004108e+07   4.500000e+04  ...       17.000000       2.000000\n",
              "50%    1.008216e+07   6.300000e+04  ...       23.000000       2.000000\n",
              "75%    1.012323e+07   8.869750e+04  ...       32.000000       3.000000\n",
              "max    1.016431e+07   7.500000e+06  ...      156.000000       3.000000\n",
              "\n",
              "[8 rows x 8 columns]"
            ]
          },
          "metadata": {
            "tags": []
          },
          "execution_count": 3
        }
      ]
    },
    {
      "cell_type": "code",
      "metadata": {
        "id": "U5gfBn1BUbP7",
        "colab_type": "code",
        "colab": {
          "base_uri": "https://localhost:8080/",
          "height": 367
        },
        "outputId": "310a6cf2-ada8-4166-ae0a-bbaffd493578"
      },
      "source": [
        "df_Train.info()"
      ],
      "execution_count": 4,
      "outputs": [
        {
          "output_type": "stream",
          "text": [
            "<class 'pandas.core.frame.DataFrame'>\n",
            "RangeIndex: 164309 entries, 0 to 164308\n",
            "Data columns (total 14 columns):\n",
            " #   Column                   Non-Null Count   Dtype  \n",
            "---  ------                   --------------   -----  \n",
            " 0   Loan_ID                  164309 non-null  int64  \n",
            " 1   Loan_Amount_Requested    164309 non-null  object \n",
            " 2   Length_Employed          156938 non-null  object \n",
            " 3   Home_Owner               138960 non-null  object \n",
            " 4   Annual_Income            139207 non-null  float64\n",
            " 5   Income_Verified          164309 non-null  object \n",
            " 6   Purpose_Of_Loan          164309 non-null  object \n",
            " 7   Debt_To_Income           164309 non-null  float64\n",
            " 8   Inquiries_Last_6Mo       164309 non-null  int64  \n",
            " 9   Months_Since_Deliquency  75930 non-null   float64\n",
            " 10  Number_Open_Accounts     164309 non-null  int64  \n",
            " 11  Total_Accounts           164309 non-null  int64  \n",
            " 12  Gender                   164309 non-null  object \n",
            " 13  Interest_Rate            164309 non-null  int64  \n",
            "dtypes: float64(3), int64(5), object(6)\n",
            "memory usage: 17.6+ MB\n"
          ],
          "name": "stdout"
        }
      ]
    },
    {
      "cell_type": "code",
      "metadata": {
        "id": "xHoQfBYhUeau",
        "colab_type": "code",
        "colab": {
          "base_uri": "https://localhost:8080/",
          "height": 100
        },
        "outputId": "c325f433-3071-4783-aa43-a5dfb5e61776"
      },
      "source": [
        "df_Train.columns"
      ],
      "execution_count": 5,
      "outputs": [
        {
          "output_type": "execute_result",
          "data": {
            "text/plain": [
              "Index(['Loan_ID', 'Loan_Amount_Requested', 'Length_Employed', 'Home_Owner',\n",
              "       'Annual_Income', 'Income_Verified', 'Purpose_Of_Loan', 'Debt_To_Income',\n",
              "       'Inquiries_Last_6Mo', 'Months_Since_Deliquency', 'Number_Open_Accounts',\n",
              "       'Total_Accounts', 'Gender', 'Interest_Rate'],\n",
              "      dtype='object')"
            ]
          },
          "metadata": {
            "tags": []
          },
          "execution_count": 5
        }
      ]
    },
    {
      "cell_type": "code",
      "metadata": {
        "id": "3OHAWUDbUjXh",
        "colab_type": "code",
        "colab": {
          "base_uri": "https://localhost:8080/",
          "height": 33
        },
        "outputId": "2f54a041-3502-452c-b8b1-5737eb347380"
      },
      "source": [
        "df_Train.shape"
      ],
      "execution_count": 6,
      "outputs": [
        {
          "output_type": "execute_result",
          "data": {
            "text/plain": [
              "(164309, 14)"
            ]
          },
          "metadata": {
            "tags": []
          },
          "execution_count": 6
        }
      ]
    },
    {
      "cell_type": "code",
      "metadata": {
        "id": "hfUG62LAUubo",
        "colab_type": "code",
        "colab": {
          "base_uri": "https://localhost:8080/",
          "height": 33
        },
        "outputId": "c9c40f6e-12d4-4404-a9ad-884e5142fb22"
      },
      "source": [
        "df_Test.shape"
      ],
      "execution_count": 8,
      "outputs": [
        {
          "output_type": "execute_result",
          "data": {
            "text/plain": [
              "(109541, 13)"
            ]
          },
          "metadata": {
            "tags": []
          },
          "execution_count": 8
        }
      ]
    },
    {
      "cell_type": "code",
      "metadata": {
        "id": "EL312j-4Ur_y",
        "colab_type": "code",
        "colab": {
          "base_uri": "https://localhost:8080/",
          "height": 267
        },
        "outputId": "a72ede38-1fe7-4fea-e56f-92a818ba5064"
      },
      "source": [
        "df_Train.isnull().sum()"
      ],
      "execution_count": 7,
      "outputs": [
        {
          "output_type": "execute_result",
          "data": {
            "text/plain": [
              "Loan_ID                        0\n",
              "Loan_Amount_Requested          0\n",
              "Length_Employed             7371\n",
              "Home_Owner                 25349\n",
              "Annual_Income              25102\n",
              "Income_Verified                0\n",
              "Purpose_Of_Loan                0\n",
              "Debt_To_Income                 0\n",
              "Inquiries_Last_6Mo             0\n",
              "Months_Since_Deliquency    88379\n",
              "Number_Open_Accounts           0\n",
              "Total_Accounts                 0\n",
              "Gender                         0\n",
              "Interest_Rate                  0\n",
              "dtype: int64"
            ]
          },
          "metadata": {
            "tags": []
          },
          "execution_count": 7
        }
      ]
    },
    {
      "cell_type": "markdown",
      "metadata": {
        "id": "TKJTwKeqFJKN",
        "colab_type": "text"
      },
      "source": [
        "## Data Visualization"
      ]
    },
    {
      "cell_type": "markdown",
      "metadata": {
        "id": "36YpBgfAFOb1",
        "colab_type": "text"
      },
      "source": [
        "To Find the count of the Interest rate"
      ]
    },
    {
      "cell_type": "code",
      "metadata": {
        "id": "7gZqXE_XFL3T",
        "colab_type": "code",
        "colab": {
          "base_uri": "https://localhost:8080/",
          "height": 83
        },
        "outputId": "98fd6b6c-0526-45c2-9582-e5012e3df26d"
      },
      "source": [
        "#Counting Interest Rates\n",
        "df_Train['Interest_Rate'].value_counts()"
      ],
      "execution_count": 26,
      "outputs": [
        {
          "output_type": "execute_result",
          "data": {
            "text/plain": [
              "2    70580\n",
              "3    59923\n",
              "1    33806\n",
              "Name: Interest_Rate, dtype: int64"
            ]
          },
          "metadata": {
            "tags": []
          },
          "execution_count": 26
        }
      ]
    },
    {
      "cell_type": "code",
      "metadata": {
        "id": "ORV8jVA0Fecj",
        "colab_type": "code",
        "colab": {
          "base_uri": "https://localhost:8080/",
          "height": 295
        },
        "outputId": "bd980f49-56d6-4e8c-984a-52ea5ea8f10b"
      },
      "source": [
        "#Counting no of Product which has reached\n",
        "sns.countplot(x='Interest_Rate',data=df_Train)\n",
        "plt.xlabel(\"Interest Rate\")\n",
        "plt.ylabel(\"Count\")\n",
        "plt.title(\"Interest Rate Count\")\n",
        "plt.show()"
      ],
      "execution_count": 28,
      "outputs": [
        {
          "output_type": "display_data",
          "data": {
            "image/png": "[encoded data removed]",
            "text/plain": [
              "<Figure size 432x288 with 1 Axes>"
            ]
          },
          "metadata": {
            "tags": [],
            "needs_background": "light"
          }
        }
      ]
    },
    {
      "cell_type": "markdown",
      "metadata": {
        "id": "yB-gN909VHKh",
        "colab_type": "text"
      },
      "source": [
        "## Feature Engineer"
      ]
    },
    {
      "cell_type": "markdown",
      "metadata": {
        "id": "Q2n-fnVeVeY-",
        "colab_type": "text"
      },
      "source": [
        "Drop the Loan ID Columns since its irrelevant"
      ]
    },
    {
      "cell_type": "code",
      "metadata": {
        "id": "QpX4vI4JVJPy",
        "colab_type": "code",
        "colab": {}
      },
      "source": [
        "df_Train = df_Train.drop(['Loan_ID'], axis=1)"
      ],
      "execution_count": 0,
      "outputs": []
    },
    {
      "cell_type": "markdown",
      "metadata": {
        "id": "E_XnVBHeVjfG",
        "colab_type": "text"
      },
      "source": [
        "### Drop Duplicates"
      ]
    },
    {
      "cell_type": "code",
      "metadata": {
        "id": "1MvfvvfnVV7T",
        "colab_type": "code",
        "colab": {
          "base_uri": "https://localhost:8080/",
          "height": 33
        },
        "outputId": "d8bea7dc-f7aa-4e01-eba3-8c82943be2b0"
      },
      "source": [
        "df_Train.shape"
      ],
      "execution_count": 10,
      "outputs": [
        {
          "output_type": "execute_result",
          "data": {
            "text/plain": [
              "(164309, 13)"
            ]
          },
          "metadata": {
            "tags": []
          },
          "execution_count": 10
        }
      ]
    },
    {
      "cell_type": "code",
      "metadata": {
        "id": "1snpSqRlVvan",
        "colab_type": "code",
        "colab": {}
      },
      "source": [
        "df_Train.drop_duplicates(keep='first', inplace=True)"
      ],
      "execution_count": 0,
      "outputs": []
    },
    {
      "cell_type": "markdown",
      "metadata": {
        "id": "X2YkOGW_W6s8",
        "colab_type": "text"
      },
      "source": [
        "### Fill Missing Values"
      ]
    },
    {
      "cell_type": "code",
      "metadata": {
        "id": "IwIvjnLWfbaj",
        "colab_type": "code",
        "colab": {}
      },
      "source": [
        "df_Train.isnull().sum()"
      ],
      "execution_count": 0,
      "outputs": []
    },
    {
      "cell_type": "code",
      "metadata": {
        "id": "ATKx8Mn6WMaZ",
        "colab_type": "code",
        "colab": {}
      },
      "source": [
        "df_Train['Home_Owner'] = df_Train['Home_Owner'].fillna('None')\n",
        "df_Test['Home_Owner'] = df_Test['Home_Owner'].fillna('None')\n",
        "df_Train['Home_Owner'] = df_Train['Home_Owner'].replace(to_replace='Other', value='None')\n",
        "df_Test['Home_Owner'] = df_Test['Home_Owner'].replace(to_replace='Other', value='None')\n",
        "df_Train['Length_Employed'] = df_Train['Length_Employed'].ffill()\n",
        "df_Test['Length_Employed'] = df_Test['Length_Employed'].ffill()\n",
        "df_Train['Annual_Income'] = df_Train['Annual_Income'].ffill()\n",
        "df_Test['Annual_Income'] = df_Test['Annual_Income'].ffill()\n",
        "df_Train['Months_Since_Deliquency'] = df_Train['Months_Since_Deliquency'].ffill()\n",
        "df_Train['Months_Since_Deliquency'] = df_Train['Months_Since_Deliquency'].bfill()\n",
        "df_Test['Months_Since_Deliquency'] = df_Test['Months_Since_Deliquency'].ffill()"
      ],
      "execution_count": 0,
      "outputs": []
    },
    {
      "cell_type": "markdown",
      "metadata": {
        "id": "JsEmWrOCqEhD",
        "colab_type": "text"
      },
      "source": [
        "### Outlier Detection"
      ]
    },
    {
      "cell_type": "markdown",
      "metadata": {
        "id": "IaqEus0bqK57",
        "colab_type": "text"
      },
      "source": [
        "Annual Income Columns Outlier Detections and Replace"
      ]
    },
    {
      "cell_type": "code",
      "metadata": {
        "id": "LgYx7uu4qxD6",
        "colab_type": "code",
        "colab": {
          "base_uri": "https://localhost:8080/",
          "height": 70
        },
        "outputId": "87fd836d-e4ae-47fc-a484-e3ebdbf1ec45"
      },
      "source": [
        "import matplotlib.pyplot as plt\n",
        "import seaborn as sns\n",
        "%matplotlib inline"
      ],
      "execution_count": 4,
      "outputs": [
        {
          "output_type": "stream",
          "text": [
            "/usr/local/lib/python3.6/dist-packages/statsmodels/tools/_testing.py:19: FutureWarning: pandas.util.testing is deprecated. Use the functions in the public API at pandas.testing instead.\n",
            "  import pandas.util.testing as tm\n"
          ],
          "name": "stderr"
        }
      ]
    },
    {
      "cell_type": "code",
      "metadata": {
        "id": "x6nlHMU-qJJ5",
        "colab_type": "code",
        "colab": {
          "base_uri": "https://localhost:8080/",
          "height": 295
        },
        "outputId": "81bd5495-7ed1-4f17-a2cd-dcc1266ce11e"
      },
      "source": [
        "sns.boxplot(x=df_Train['Annual_Income'])\n",
        "plt.title('Annual Income Outlier Detection')\n",
        "plt.xlabel('Annual income')\n",
        "plt.show()"
      ],
      "execution_count": 25,
      "outputs": [
        {
          "output_type": "display_data",
          "data": {
            "image/png": "[encoded data removed]",
            "text/plain": [
              "<Figure size 432x288 with 1 Axes>"
            ]
          },
          "metadata": {
            "tags": [],
            "needs_background": "light"
          }
        }
      ]
    },
    {
      "cell_type": "code",
      "metadata": {
        "id": "HSJevVyorMh8",
        "colab_type": "code",
        "colab": {
          "base_uri": "https://localhost:8080/",
          "height": 167
        },
        "outputId": "701108eb-ea4e-4bca-d17a-f5f047a3bc19"
      },
      "source": [
        "df_Train['Annual_Income'].describe()"
      ],
      "execution_count": 13,
      "outputs": [
        {
          "output_type": "execute_result",
          "data": {
            "text/plain": [
              "count    1.643090e+05\n",
              "mean     7.325752e+04\n",
              "std      5.925473e+04\n",
              "min      4.000000e+03\n",
              "25%      4.500000e+04\n",
              "50%      6.300000e+04\n",
              "75%      8.844500e+04\n",
              "max      7.500000e+06\n",
              "Name: Annual_Income, dtype: float64"
            ]
          },
          "metadata": {
            "tags": []
          },
          "execution_count": 13
        }
      ]
    },
    {
      "cell_type": "code",
      "metadata": {
        "id": "DjHcnj7Z5t86",
        "colab_type": "code",
        "colab": {
          "base_uri": "https://localhost:8080/",
          "height": 33
        },
        "outputId": "a6f39a61-436e-4e72-8b40-d453f68a7e3d"
      },
      "source": [
        "Q1 = df_Train['Annual_Income'].quantile(0.25)\n",
        "Q3 = df_Train['Annual_Income'].quantile(0.75)\n",
        "IQR = Q3 - Q1\n",
        "print(IQR)"
      ],
      "execution_count": 36,
      "outputs": [
        {
          "output_type": "stream",
          "text": [
            "43445.0\n"
          ],
          "name": "stdout"
        }
      ]
    },
    {
      "cell_type": "code",
      "metadata": {
        "id": "NdPIcFyc55Kc",
        "colab_type": "code",
        "colab": {
          "base_uri": "https://localhost:8080/",
          "height": 33
        },
        "outputId": "4d716566-b475-4849-e74d-2249fb68a0f7"
      },
      "source": [
        "print(df_Train['Annual_Income'].skew())"
      ],
      "execution_count": 37,
      "outputs": [
        {
          "output_type": "stream",
          "text": [
            "38.9492293066376\n"
          ],
          "name": "stdout"
        }
      ]
    },
    {
      "cell_type": "code",
      "metadata": {
        "id": "uioGXG0h6BNC",
        "colab_type": "code",
        "colab": {
          "base_uri": "https://localhost:8080/",
          "height": 295
        },
        "outputId": "1fda3fdf-edc1-4080-9f96-2499133fa14f"
      },
      "source": [
        "sns.distplot(df_Train['Annual_Income'])\n",
        "plt.xlabel('Annual Income')\n",
        "plt.ylabel('Count')\n",
        "plt.title('Annual Income Count')\n",
        "plt.show()"
      ],
      "execution_count": 7,
      "outputs": [
        {
          "output_type": "display_data",
          "data": {
            "image/png": "[encoded data removed]",
            "text/plain": [
              "<Figure size 432x288 with 1 Axes>"
            ]
          },
          "metadata": {
            "tags": [],
            "needs_background": "light"
          }
        }
      ]
    },
    {
      "cell_type": "code",
      "metadata": {
        "id": "8NsqyFbL6HzO",
        "colab_type": "code",
        "colab": {
          "base_uri": "https://localhost:8080/",
          "height": 50
        },
        "outputId": "c138d73a-d5a0-41d0-fd2c-5fc009aef8f7"
      },
      "source": [
        "#Outlier Removal Based on Flooring and Capping\n",
        "print(df_Train['Annual_Income'].quantile(0.10))\n",
        "print(df_Train['Annual_Income'].quantile(0.90))\n",
        "df_Train['Annual_Income'] = np.where(df_Train['Annual_Income'] <34000.0, 34000.0,df_Train['Annual_Income'])\n",
        "df_Train['Annual_Income'] = np.where(df_Train['Annual_Income'] >120000.0, 120000.0,df_Train['Annual_Income'])\n",
        "print(df_Train['Annual_Income'].skew())"
      ],
      "execution_count": 30,
      "outputs": [
        {
          "output_type": "stream",
          "text": [
            "34000.0\n",
            "120000.0\n"
          ],
          "name": "stdout"
        }
      ]
    },
    {
      "cell_type": "code",
      "metadata": {
        "id": "-FLHYp8J49HB",
        "colab_type": "code",
        "colab": {}
      },
      "source": [
        "#Log Transformation to remove the outliers\n",
        "df_Train['Annual_Income'] = df_Train['Annual_Income'].map(lambda i: np.log(i) if i > 0 else 0)\n",
        "df_Test['Annual_Income'] = df_Test['Annual_Income'].map(lambda i: np.log(i) if i > 0 else 0)"
      ],
      "execution_count": 0,
      "outputs": []
    },
    {
      "cell_type": "markdown",
      "metadata": {
        "id": "s7mRubClfdsr",
        "colab_type": "text"
      },
      "source": [
        "### Scaling the Columns"
      ]
    },
    {
      "cell_type": "code",
      "metadata": {
        "id": "oinQxDbYfhQ2",
        "colab_type": "code",
        "colab": {}
      },
      "source": [
        "from sklearn import preprocessing\n",
        "mm_scaler = preprocessing.MinMaxScaler()"
      ],
      "execution_count": 0,
      "outputs": []
    },
    {
      "cell_type": "code",
      "metadata": {
        "id": "3hroHg8Ngm2p",
        "colab_type": "code",
        "colab": {
          "base_uri": "https://localhost:8080/",
          "height": 100
        },
        "outputId": "e32fa1f1-dbba-4b2c-f564-e648c03d8002"
      },
      "source": [
        "df_Train.columns"
      ],
      "execution_count": 10,
      "outputs": [
        {
          "output_type": "execute_result",
          "data": {
            "text/plain": [
              "Index(['Loan_Amount_Requested', 'Length_Employed', 'Home_Owner',\n",
              "       'Annual_Income', 'Income_Verified', 'Purpose_Of_Loan', 'Debt_To_Income',\n",
              "       'Inquiries_Last_6Mo', 'Months_Since_Deliquency', 'Number_Open_Accounts',\n",
              "       'Total_Accounts', 'Gender', 'Interest_Rate'],\n",
              "      dtype='object')"
            ]
          },
          "metadata": {
            "tags": []
          },
          "execution_count": 10
        }
      ]
    },
    {
      "cell_type": "markdown",
      "metadata": {
        "id": "_tbiAasegPVa",
        "colab_type": "text"
      },
      "source": [
        "Loan Amount Requested Colmn\n"
      ]
    },
    {
      "cell_type": "code",
      "metadata": {
        "id": "vE8dOpbOkls1",
        "colab_type": "code",
        "colab": {}
      },
      "source": [
        "df_Train['Loan_Amount_Requested'] = df_Train['Loan_Amount_Requested'].str.replace(',', '').astype(int)\n",
        "df_Test['Loan_Amount_Requested'] = df_Test['Loan_Amount_Requested'].str.replace(',', '').astype(int)\n",
        "df_Train[['Loan_Amount_Requested']] = mm_scaler.fit_transform(df_Train[['Loan_Amount_Requested']])\n",
        "df_Test[['Loan_Amount_Requested']] = mm_scaler.fit_transform(df_Test[['Loan_Amount_Requested']])"
      ],
      "execution_count": 0,
      "outputs": []
    },
    {
      "cell_type": "code",
      "metadata": {
        "id": "wGQpFjyigIUC",
        "colab_type": "code",
        "colab": {
          "base_uri": "https://localhost:8080/",
          "height": 280
        },
        "outputId": "00442aaf-ee17-4d01-8af1-c345e3f919df"
      },
      "source": [
        "sns.distplot(df_Train['Loan_Amount_Requested'])\n",
        "plt.show()"
      ],
      "execution_count": 11,
      "outputs": [
        {
          "output_type": "display_data",
          "data": {
            "image/png": "[encoded data removed]",
            "text/plain": [
              "<Figure size 432x288 with 1 Axes>"
            ]
          },
          "metadata": {
            "tags": [],
            "needs_background": "light"
          }
        }
      ]
    },
    {
      "cell_type": "code",
      "metadata": {
        "id": "OVTItDslgwWN",
        "colab_type": "code",
        "colab": {}
      },
      "source": [
        ""
      ],
      "execution_count": 0,
      "outputs": []
    },
    {
      "cell_type": "markdown",
      "metadata": {
        "id": "f31ANJFSAh9n",
        "colab_type": "text"
      },
      "source": [
        "## Encoding of the Columns"
      ]
    },
    {
      "cell_type": "markdown",
      "metadata": {
        "id": "C1WoXYLLBNOZ",
        "colab_type": "text"
      },
      "source": [
        "For Tree based algorithm"
      ]
    },
    {
      "cell_type": "code",
      "metadata": {
        "id": "QwAtql_gBRsA",
        "colab_type": "code",
        "colab": {
          "base_uri": "https://localhost:8080/",
          "height": 217
        },
        "outputId": "45d07c19-f81a-4c6a-88b4-25c85c140e0e"
      },
      "source": [
        "df_Train.head()"
      ],
      "execution_count": 15,
      "outputs": [
        {
          "output_type": "execute_result",
          "data": {
            "text/html": [
              "<div>\n",
              "<style scoped>\n",
              "    .dataframe tbody tr th:only-of-type {\n",
              "        vertical-align: middle;\n",
              "    }\n",
              "\n",
              "    .dataframe tbody tr th {\n",
              "        vertical-align: top;\n",
              "    }\n",
              "\n",
              "    .dataframe thead th {\n",
              "        text-align: right;\n",
              "    }\n",
              "</style>\n",
              "<table border=\"1\" class=\"dataframe\">\n",
              "  <thead>\n",
              "    <tr style=\"text-align: right;\">\n",
              "      <th></th>\n",
              "      <th>Loan_Amount_Requested</th>\n",
              "      <th>Length_Employed</th>\n",
              "      <th>Home_Owner</th>\n",
              "      <th>Annual_Income</th>\n",
              "      <th>Income_Verified</th>\n",
              "      <th>Purpose_Of_Loan</th>\n",
              "      <th>Debt_To_Income</th>\n",
              "      <th>Inquiries_Last_6Mo</th>\n",
              "      <th>Months_Since_Deliquency</th>\n",
              "      <th>Number_Open_Accounts</th>\n",
              "      <th>Total_Accounts</th>\n",
              "      <th>Gender</th>\n",
              "      <th>Interest_Rate</th>\n",
              "    </tr>\n",
              "  </thead>\n",
              "  <tbody>\n",
              "    <tr>\n",
              "      <th>0</th>\n",
              "      <td>0.188406</td>\n",
              "      <td>10</td>\n",
              "      <td>3</td>\n",
              "      <td>11.127263</td>\n",
              "      <td>2</td>\n",
              "      <td>0</td>\n",
              "      <td>18.37</td>\n",
              "      <td>0</td>\n",
              "      <td>17</td>\n",
              "      <td>9</td>\n",
              "      <td>12</td>\n",
              "      <td>0</td>\n",
              "      <td>1</td>\n",
              "    </tr>\n",
              "    <tr>\n",
              "      <th>1</th>\n",
              "      <td>0.855072</td>\n",
              "      <td>4</td>\n",
              "      <td>0</td>\n",
              "      <td>11.127263</td>\n",
              "      <td>0</td>\n",
              "      <td>2</td>\n",
              "      <td>14.93</td>\n",
              "      <td>0</td>\n",
              "      <td>17</td>\n",
              "      <td>12</td>\n",
              "      <td>22</td>\n",
              "      <td>0</td>\n",
              "      <td>3</td>\n",
              "    </tr>\n",
              "    <tr>\n",
              "      <th>2</th>\n",
              "      <td>0.702174</td>\n",
              "      <td>7</td>\n",
              "      <td>0</td>\n",
              "      <td>11.232767</td>\n",
              "      <td>1</td>\n",
              "      <td>2</td>\n",
              "      <td>15.88</td>\n",
              "      <td>0</td>\n",
              "      <td>17</td>\n",
              "      <td>12</td>\n",
              "      <td>14</td>\n",
              "      <td>1</td>\n",
              "      <td>3</td>\n",
              "    </tr>\n",
              "    <tr>\n",
              "      <th>3</th>\n",
              "      <td>0.449275</td>\n",
              "      <td>10</td>\n",
              "      <td>1</td>\n",
              "      <td>10.935960</td>\n",
              "      <td>1</td>\n",
              "      <td>2</td>\n",
              "      <td>14.34</td>\n",
              "      <td>3</td>\n",
              "      <td>17</td>\n",
              "      <td>16</td>\n",
              "      <td>20</td>\n",
              "      <td>1</td>\n",
              "      <td>3</td>\n",
              "    </tr>\n",
              "    <tr>\n",
              "      <th>4</th>\n",
              "      <td>0.478261</td>\n",
              "      <td>8</td>\n",
              "      <td>2</td>\n",
              "      <td>11.472103</td>\n",
              "      <td>1</td>\n",
              "      <td>2</td>\n",
              "      <td>22.17</td>\n",
              "      <td>1</td>\n",
              "      <td>17</td>\n",
              "      <td>19</td>\n",
              "      <td>28</td>\n",
              "      <td>0</td>\n",
              "      <td>1</td>\n",
              "    </tr>\n",
              "  </tbody>\n",
              "</table>\n",
              "</div>"
            ],
            "text/plain": [
              "   Loan_Amount_Requested  Length_Employed  ...  Gender  Interest_Rate\n",
              "0               0.188406               10  ...       0              1\n",
              "1               0.855072                4  ...       0              3\n",
              "2               0.702174                7  ...       1              3\n",
              "3               0.449275               10  ...       1              3\n",
              "4               0.478261                8  ...       0              1\n",
              "\n",
              "[5 rows x 13 columns]"
            ]
          },
          "metadata": {
            "tags": []
          },
          "execution_count": 15
        }
      ]
    },
    {
      "cell_type": "code",
      "metadata": {
        "id": "_cg7OLpXAmCb",
        "colab_type": "code",
        "colab": {}
      },
      "source": [
        "from sklearn.preprocessing import LabelEncoder\n",
        "le = LabelEncoder()\n",
        "df_Train['Length_Employed'] = le.fit_transform(df_Train['Length_Employed'])\n",
        "df_Test['Length_Employed'] = le.fit_transform(df_Test['Length_Employed'])\n",
        "df_Train['Home_Owner'] = le.fit_transform(df_Train['Home_Owner'])\n",
        "df_Test['Home_Owner'] = le.fit_transform(df_Test['Home_Owner'])\n",
        "df_Train['Income_Verified'] = le.fit_transform(df_Train['Income_Verified'])\n",
        "df_Test['Income_Verified'] = le.fit_transform(df_Test['Income_Verified'])\n",
        "df_Train['Purpose_Of_Loan'] = le.fit_transform(df_Train['Purpose_Of_Loan'])\n",
        "df_Test['Purpose_Of_Loan'] = le.fit_transform(df_Test['Purpose_Of_Loan'])\n",
        "df_Train['Inquiries_Last_6Mo'] = le.fit_transform(df_Train['Inquiries_Last_6Mo'])\n",
        "df_Test['Inquiries_Last_6Mo'] = le.fit_transform(df_Test['Inquiries_Last_6Mo'])\n",
        "df_Train['Months_Since_Deliquency'] = le.fit_transform(df_Train['Months_Since_Deliquency'])\n",
        "df_Test['Months_Since_Deliquency'] = le.fit_transform(df_Test['Months_Since_Deliquency'])\n",
        "df_Train['Number_Open_Accounts'] = le.fit_transform(df_Train['Number_Open_Accounts'])\n",
        "df_Test['Number_Open_Accounts'] = le.fit_transform(df_Test['Number_Open_Accounts'])\n",
        "df_Train['Total_Accounts'] = le.fit_transform(df_Train['Total_Accounts'])\n",
        "df_Test['Total_Accounts'] = le.fit_transform(df_Test['Total_Accounts'])\n",
        "df_Train['Gender'] = le.fit_transform(df_Train['Gender'])\n",
        "df_Test['Gender'] = le.fit_transform(df_Test['Gender'])"
      ],
      "execution_count": 0,
      "outputs": []
    },
    {
      "cell_type": "markdown",
      "metadata": {
        "id": "VvXCFIZ7D8Ik",
        "colab_type": "text"
      },
      "source": [
        "## Feature Selection"
      ]
    },
    {
      "cell_type": "markdown",
      "metadata": {
        "id": "SHuOXLMBD-58",
        "colab_type": "text"
      },
      "source": [
        "### Correlation of Data"
      ]
    },
    {
      "cell_type": "code",
      "metadata": {
        "id": "gdskHsuOD7f8",
        "colab_type": "code",
        "colab": {}
      },
      "source": [
        "import matplotlib.pyplot as plt\n",
        "import seaborn as sns\n",
        "%matplotlib inline"
      ],
      "execution_count": 0,
      "outputs": []
    },
    {
      "cell_type": "code",
      "metadata": {
        "id": "oNPlEuvoEG_B",
        "colab_type": "code",
        "colab": {
          "base_uri": "https://localhost:8080/",
          "height": 457
        },
        "outputId": "c7e19489-757c-44d3-ac9c-cc06ff9a51a5"
      },
      "source": [
        "df_Train.corr()"
      ],
      "execution_count": 18,
      "outputs": [
        {
          "output_type": "execute_result",
          "data": {
            "text/html": [
              "<div>\n",
              "<style scoped>\n",
              "    .dataframe tbody tr th:only-of-type {\n",
              "        vertical-align: middle;\n",
              "    }\n",
              "\n",
              "    .dataframe tbody tr th {\n",
              "        vertical-align: top;\n",
              "    }\n",
              "\n",
              "    .dataframe thead th {\n",
              "        text-align: right;\n",
              "    }\n",
              "</style>\n",
              "<table border=\"1\" class=\"dataframe\">\n",
              "  <thead>\n",
              "    <tr style=\"text-align: right;\">\n",
              "      <th></th>\n",
              "      <th>Loan_Amount_Requested</th>\n",
              "      <th>Length_Employed</th>\n",
              "      <th>Home_Owner</th>\n",
              "      <th>Annual_Income</th>\n",
              "      <th>Income_Verified</th>\n",
              "      <th>Purpose_Of_Loan</th>\n",
              "      <th>Debt_To_Income</th>\n",
              "      <th>Inquiries_Last_6Mo</th>\n",
              "      <th>Months_Since_Deliquency</th>\n",
              "      <th>Number_Open_Accounts</th>\n",
              "      <th>Total_Accounts</th>\n",
              "      <th>Gender</th>\n",
              "      <th>Interest_Rate</th>\n",
              "    </tr>\n",
              "  </thead>\n",
              "  <tbody>\n",
              "    <tr>\n",
              "      <th>Loan_Amount_Requested</th>\n",
              "      <td>1.000000</td>\n",
              "      <td>-0.053633</td>\n",
              "      <td>-0.189622</td>\n",
              "      <td>0.436598</td>\n",
              "      <td>-0.361991</td>\n",
              "      <td>-0.151835</td>\n",
              "      <td>0.058314</td>\n",
              "      <td>-0.007659</td>\n",
              "      <td>-0.021101</td>\n",
              "      <td>0.203138</td>\n",
              "      <td>0.233493</td>\n",
              "      <td>0.001468</td>\n",
              "      <td>0.132486</td>\n",
              "    </tr>\n",
              "    <tr>\n",
              "      <th>Length_Employed</th>\n",
              "      <td>-0.053633</td>\n",
              "      <td>1.000000</td>\n",
              "      <td>0.069004</td>\n",
              "      <td>-0.061520</td>\n",
              "      <td>0.017429</td>\n",
              "      <td>0.012977</td>\n",
              "      <td>-0.015453</td>\n",
              "      <td>-0.000155</td>\n",
              "      <td>0.012046</td>\n",
              "      <td>-0.020266</td>\n",
              "      <td>-0.061451</td>\n",
              "      <td>-0.002596</td>\n",
              "      <td>-0.005465</td>\n",
              "    </tr>\n",
              "    <tr>\n",
              "      <th>Home_Owner</th>\n",
              "      <td>-0.189622</td>\n",
              "      <td>0.069004</td>\n",
              "      <td>1.000000</td>\n",
              "      <td>-0.220562</td>\n",
              "      <td>0.078791</td>\n",
              "      <td>0.035868</td>\n",
              "      <td>0.001704</td>\n",
              "      <td>-0.055485</td>\n",
              "      <td>0.019223</td>\n",
              "      <td>-0.124970</td>\n",
              "      <td>-0.211423</td>\n",
              "      <td>0.000930</td>\n",
              "      <td>0.059018</td>\n",
              "    </tr>\n",
              "    <tr>\n",
              "      <th>Annual_Income</th>\n",
              "      <td>0.436598</td>\n",
              "      <td>-0.061520</td>\n",
              "      <td>-0.220562</td>\n",
              "      <td>1.000000</td>\n",
              "      <td>-0.107810</td>\n",
              "      <td>-0.008690</td>\n",
              "      <td>-0.173848</td>\n",
              "      <td>0.066570</td>\n",
              "      <td>-0.040548</td>\n",
              "      <td>0.198361</td>\n",
              "      <td>0.279219</td>\n",
              "      <td>0.000437</td>\n",
              "      <td>-0.067633</td>\n",
              "    </tr>\n",
              "    <tr>\n",
              "      <th>Income_Verified</th>\n",
              "      <td>-0.361991</td>\n",
              "      <td>0.017429</td>\n",
              "      <td>0.078791</td>\n",
              "      <td>-0.107810</td>\n",
              "      <td>1.000000</td>\n",
              "      <td>0.008206</td>\n",
              "      <td>-0.114140</td>\n",
              "      <td>-0.066530</td>\n",
              "      <td>-0.002805</td>\n",
              "      <td>-0.067831</td>\n",
              "      <td>-0.099067</td>\n",
              "      <td>-0.004768</td>\n",
              "      <td>-0.213371</td>\n",
              "    </tr>\n",
              "    <tr>\n",
              "      <th>Purpose_Of_Loan</th>\n",
              "      <td>-0.151835</td>\n",
              "      <td>0.012977</td>\n",
              "      <td>0.035868</td>\n",
              "      <td>-0.008690</td>\n",
              "      <td>0.008206</td>\n",
              "      <td>1.000000</td>\n",
              "      <td>-0.109030</td>\n",
              "      <td>0.052450</td>\n",
              "      <td>-0.004258</td>\n",
              "      <td>-0.089431</td>\n",
              "      <td>-0.070361</td>\n",
              "      <td>0.002136</td>\n",
              "      <td>0.107253</td>\n",
              "    </tr>\n",
              "    <tr>\n",
              "      <th>Debt_To_Income</th>\n",
              "      <td>0.058314</td>\n",
              "      <td>-0.015453</td>\n",
              "      <td>0.001704</td>\n",
              "      <td>-0.173848</td>\n",
              "      <td>-0.114140</td>\n",
              "      <td>-0.109030</td>\n",
              "      <td>1.000000</td>\n",
              "      <td>-0.005142</td>\n",
              "      <td>0.002868</td>\n",
              "      <td>0.302538</td>\n",
              "      <td>0.229930</td>\n",
              "      <td>-0.000392</td>\n",
              "      <td>0.152472</td>\n",
              "    </tr>\n",
              "    <tr>\n",
              "      <th>Inquiries_Last_6Mo</th>\n",
              "      <td>-0.007659</td>\n",
              "      <td>-0.000155</td>\n",
              "      <td>-0.055485</td>\n",
              "      <td>0.066570</td>\n",
              "      <td>-0.066530</td>\n",
              "      <td>0.052450</td>\n",
              "      <td>-0.005142</td>\n",
              "      <td>1.000000</td>\n",
              "      <td>0.007408</td>\n",
              "      <td>0.100905</td>\n",
              "      <td>0.131522</td>\n",
              "      <td>0.000556</td>\n",
              "      <td>0.188987</td>\n",
              "    </tr>\n",
              "    <tr>\n",
              "      <th>Months_Since_Deliquency</th>\n",
              "      <td>-0.021101</td>\n",
              "      <td>0.012046</td>\n",
              "      <td>0.019223</td>\n",
              "      <td>-0.040548</td>\n",
              "      <td>-0.002805</td>\n",
              "      <td>-0.004258</td>\n",
              "      <td>0.002868</td>\n",
              "      <td>0.007408</td>\n",
              "      <td>1.000000</td>\n",
              "      <td>-0.021932</td>\n",
              "      <td>-0.027325</td>\n",
              "      <td>0.002809</td>\n",
              "      <td>-0.018957</td>\n",
              "    </tr>\n",
              "    <tr>\n",
              "      <th>Number_Open_Accounts</th>\n",
              "      <td>0.203138</td>\n",
              "      <td>-0.020266</td>\n",
              "      <td>-0.124970</td>\n",
              "      <td>0.198361</td>\n",
              "      <td>-0.067831</td>\n",
              "      <td>-0.089431</td>\n",
              "      <td>0.302538</td>\n",
              "      <td>0.100905</td>\n",
              "      <td>-0.021932</td>\n",
              "      <td>1.000000</td>\n",
              "      <td>0.682359</td>\n",
              "      <td>0.001264</td>\n",
              "      <td>0.002817</td>\n",
              "    </tr>\n",
              "    <tr>\n",
              "      <th>Total_Accounts</th>\n",
              "      <td>0.233493</td>\n",
              "      <td>-0.061451</td>\n",
              "      <td>-0.211423</td>\n",
              "      <td>0.279219</td>\n",
              "      <td>-0.099067</td>\n",
              "      <td>-0.070361</td>\n",
              "      <td>0.229930</td>\n",
              "      <td>0.131522</td>\n",
              "      <td>-0.027325</td>\n",
              "      <td>0.682359</td>\n",
              "      <td>1.000000</td>\n",
              "      <td>0.003060</td>\n",
              "      <td>-0.040740</td>\n",
              "    </tr>\n",
              "    <tr>\n",
              "      <th>Gender</th>\n",
              "      <td>0.001468</td>\n",
              "      <td>-0.002596</td>\n",
              "      <td>0.000930</td>\n",
              "      <td>0.000437</td>\n",
              "      <td>-0.004768</td>\n",
              "      <td>0.002136</td>\n",
              "      <td>-0.000392</td>\n",
              "      <td>0.000556</td>\n",
              "      <td>0.002809</td>\n",
              "      <td>0.001264</td>\n",
              "      <td>0.003060</td>\n",
              "      <td>1.000000</td>\n",
              "      <td>0.002038</td>\n",
              "    </tr>\n",
              "    <tr>\n",
              "      <th>Interest_Rate</th>\n",
              "      <td>0.132486</td>\n",
              "      <td>-0.005465</td>\n",
              "      <td>0.059018</td>\n",
              "      <td>-0.067633</td>\n",
              "      <td>-0.213371</td>\n",
              "      <td>0.107253</td>\n",
              "      <td>0.152472</td>\n",
              "      <td>0.188987</td>\n",
              "      <td>-0.018957</td>\n",
              "      <td>0.002817</td>\n",
              "      <td>-0.040740</td>\n",
              "      <td>0.002038</td>\n",
              "      <td>1.000000</td>\n",
              "    </tr>\n",
              "  </tbody>\n",
              "</table>\n",
              "</div>"
            ],
            "text/plain": [
              "                         Loan_Amount_Requested  ...  Interest_Rate\n",
              "Loan_Amount_Requested                 1.000000  ...       0.132486\n",
              "Length_Employed                      -0.053633  ...      -0.005465\n",
              "Home_Owner                           -0.189622  ...       0.059018\n",
              "Annual_Income                         0.436598  ...      -0.067633\n",
              "Income_Verified                      -0.361991  ...      -0.213371\n",
              "Purpose_Of_Loan                      -0.151835  ...       0.107253\n",
              "Debt_To_Income                        0.058314  ...       0.152472\n",
              "Inquiries_Last_6Mo                   -0.007659  ...       0.188987\n",
              "Months_Since_Deliquency              -0.021101  ...      -0.018957\n",
              "Number_Open_Accounts                  0.203138  ...       0.002817\n",
              "Total_Accounts                        0.233493  ...      -0.040740\n",
              "Gender                                0.001468  ...       0.002038\n",
              "Interest_Rate                         0.132486  ...       1.000000\n",
              "\n",
              "[13 rows x 13 columns]"
            ]
          },
          "metadata": {
            "tags": []
          },
          "execution_count": 18
        }
      ]
    },
    {
      "cell_type": "code",
      "metadata": {
        "id": "qT5ee6zuEIWf",
        "colab_type": "code",
        "colab": {
          "base_uri": "https://localhost:8080/",
          "height": 683
        },
        "outputId": "8505ec61-a757-45cb-e8ce-1740dca831fa"
      },
      "source": [
        "corrmat = df_Train.corr()\n",
        "f, ax = plt.subplots(figsize=(10,10))\n",
        "sns.heatmap(corrmat, square=True, vmax=.8)"
      ],
      "execution_count": 19,
      "outputs": [
        {
          "output_type": "execute_result",
          "data": {
            "text/plain": [
              "<matplotlib.axes._subplots.AxesSubplot at 0x7efc65c2bba8>"
            ]
          },
          "metadata": {
            "tags": []
          },
          "execution_count": 19
        },
        {
          "output_type": "display_data",
          "data": {
            "image/png": "[encoded data removed]",
            "text/plain": [
              "<Figure size 720x720 with 2 Axes>"
            ]
          },
          "metadata": {
            "tags": [],
            "needs_background": "light"
          }
        }
      ]
    },
    {
      "cell_type": "code",
      "metadata": {
        "id": "NAqf1e4pEKuV",
        "colab_type": "code",
        "colab": {
          "base_uri": "https://localhost:8080/",
          "height": 782
        },
        "outputId": "80c1cbc1-6b40-4201-9ef2-79637f141c31"
      },
      "source": [
        "\n",
        "str_list = [] # empty list to contain columns with strings (words)\n",
        "for colname, colvalue in df_Train.iteritems():\n",
        "    if type(colvalue[1]) == str:\n",
        "         str_list.append(colname)\n",
        "# Get to the numeric columns by inversion            \n",
        "num_list = df_Train.columns.difference(str_list) \n",
        "# Create Dataframe containing only numerical features\n",
        "train_num = df_Train[num_list]\n",
        "f, ax = plt.subplots(figsize=(12, 12))\n",
        "plt.title('Pearson Correlation of features')\n",
        "# Draw the heatmap using seaborn\n",
        "sns.heatmap(train_num.astype(float).corr(),linewidths=0.25,vmax=1.0, square=True, cmap=\"cubehelix\", linecolor='k', annot=True)"
      ],
      "execution_count": 21,
      "outputs": [
        {
          "output_type": "execute_result",
          "data": {
            "text/plain": [
              "<matplotlib.axes._subplots.AxesSubplot at 0x7efc55c94ba8>"
            ]
          },
          "metadata": {
            "tags": []
          },
          "execution_count": 21
        },
        {
          "output_type": "display_data",
          "data": {
            "image/png": "[encoded data removed]",
            "text/plain": [
              "<Figure size 864x864 with 2 Axes>"
            ]
          },
          "metadata": {
            "tags": [],
            "needs_background": "light"
          }
        }
      ]
    },
    {
      "cell_type": "markdown",
      "metadata": {
        "id": "rD8G_zpkEcyp",
        "colab_type": "text"
      },
      "source": [
        "### Multi-Collineartiy of the Data"
      ]
    },
    {
      "cell_type": "code",
      "metadata": {
        "id": "WHqhooioET6w",
        "colab_type": "code",
        "colab": {}
      },
      "source": [
        "import statsmodels.api as sm\n",
        "from statsmodels.stats.outliers_influence import variance_inflation_factor"
      ],
      "execution_count": 0,
      "outputs": []
    },
    {
      "cell_type": "code",
      "metadata": {
        "id": "v7H2HDuzEjwI",
        "colab_type": "code",
        "colab": {}
      },
      "source": [
        "df_multi = df_Train\n",
        "df_multi = df_multi.drop('Interest_Rate', axis=1)"
      ],
      "execution_count": 0,
      "outputs": []
    },
    {
      "cell_type": "code",
      "metadata": {
        "id": "Vtqyzp5eEu7L",
        "colab_type": "code",
        "colab": {}
      },
      "source": [
        "# For each X, calculate VIF and save in dataframe\n",
        "vif = pd.DataFrame()\n",
        "vif[\"VIF Factor\"] = [variance_inflation_factor(df_multi.values, i) for i in range(df_multi.shape[1])]\n",
        "vif[\"features\"] = df_multi.columns"
      ],
      "execution_count": 0,
      "outputs": []
    },
    {
      "cell_type": "code",
      "metadata": {
        "id": "3fQzaKGNEwOG",
        "colab_type": "code",
        "colab": {
          "base_uri": "https://localhost:8080/",
          "height": 407
        },
        "outputId": "1bb9f5a9-6c15-488b-8227-fab9b1240708"
      },
      "source": [
        "vif.round(1)"
      ],
      "execution_count": 25,
      "outputs": [
        {
          "output_type": "execute_result",
          "data": {
            "text/html": [
              "<div>\n",
              "<style scoped>\n",
              "    .dataframe tbody tr th:only-of-type {\n",
              "        vertical-align: middle;\n",
              "    }\n",
              "\n",
              "    .dataframe tbody tr th {\n",
              "        vertical-align: top;\n",
              "    }\n",
              "\n",
              "    .dataframe thead th {\n",
              "        text-align: right;\n",
              "    }\n",
              "</style>\n",
              "<table border=\"1\" class=\"dataframe\">\n",
              "  <thead>\n",
              "    <tr style=\"text-align: right;\">\n",
              "      <th></th>\n",
              "      <th>VIF Factor</th>\n",
              "      <th>features</th>\n",
              "    </tr>\n",
              "  </thead>\n",
              "  <tbody>\n",
              "    <tr>\n",
              "      <th>0</th>\n",
              "      <td>5.2</td>\n",
              "      <td>Loan_Amount_Requested</td>\n",
              "    </tr>\n",
              "    <tr>\n",
              "      <th>1</th>\n",
              "      <td>2.4</td>\n",
              "      <td>Length_Employed</td>\n",
              "    </tr>\n",
              "    <tr>\n",
              "      <th>2</th>\n",
              "      <td>2.1</td>\n",
              "      <td>Home_Owner</td>\n",
              "    </tr>\n",
              "    <tr>\n",
              "      <th>3</th>\n",
              "      <td>27.6</td>\n",
              "      <td>Annual_Income</td>\n",
              "    </tr>\n",
              "    <tr>\n",
              "      <th>4</th>\n",
              "      <td>2.8</td>\n",
              "      <td>Income_Verified</td>\n",
              "    </tr>\n",
              "    <tr>\n",
              "      <th>5</th>\n",
              "      <td>2.3</td>\n",
              "      <td>Purpose_Of_Loan</td>\n",
              "    </tr>\n",
              "    <tr>\n",
              "      <th>6</th>\n",
              "      <td>6.3</td>\n",
              "      <td>Debt_To_Income</td>\n",
              "    </tr>\n",
              "    <tr>\n",
              "      <th>7</th>\n",
              "      <td>1.6</td>\n",
              "      <td>Inquiries_Last_6Mo</td>\n",
              "    </tr>\n",
              "    <tr>\n",
              "      <th>8</th>\n",
              "      <td>3.5</td>\n",
              "      <td>Months_Since_Deliquency</td>\n",
              "    </tr>\n",
              "    <tr>\n",
              "      <th>9</th>\n",
              "      <td>11.9</td>\n",
              "      <td>Number_Open_Accounts</td>\n",
              "    </tr>\n",
              "    <tr>\n",
              "      <th>10</th>\n",
              "      <td>9.9</td>\n",
              "      <td>Total_Accounts</td>\n",
              "    </tr>\n",
              "    <tr>\n",
              "      <th>11</th>\n",
              "      <td>3.5</td>\n",
              "      <td>Gender</td>\n",
              "    </tr>\n",
              "  </tbody>\n",
              "</table>\n",
              "</div>"
            ],
            "text/plain": [
              "    VIF Factor                 features\n",
              "0          5.2    Loan_Amount_Requested\n",
              "1          2.4          Length_Employed\n",
              "2          2.1               Home_Owner\n",
              "3         27.6            Annual_Income\n",
              "4          2.8          Income_Verified\n",
              "5          2.3          Purpose_Of_Loan\n",
              "6          6.3           Debt_To_Income\n",
              "7          1.6       Inquiries_Last_6Mo\n",
              "8          3.5  Months_Since_Deliquency\n",
              "9         11.9     Number_Open_Accounts\n",
              "10         9.9           Total_Accounts\n",
              "11         3.5                   Gender"
            ]
          },
          "metadata": {
            "tags": []
          },
          "execution_count": 25
        }
      ]
    },
    {
      "cell_type": "markdown",
      "metadata": {
        "id": "Bjrnwr4WE2N5",
        "colab_type": "text"
      },
      "source": [
        "# Data Modelling"
      ]
    },
    {
      "cell_type": "markdown",
      "metadata": {
        "id": "qy17X2jIE7Up",
        "colab_type": "text"
      },
      "source": [
        "## Balance the Data"
      ]
    },
    {
      "cell_type": "code",
      "metadata": {
        "id": "NhJ_KLPVFsUJ",
        "colab_type": "code",
        "colab": {
          "base_uri": "https://localhost:8080/",
          "height": 217
        },
        "outputId": "c7e83d85-7d73-46b7-cc23-018734ab70b7"
      },
      "source": [
        "df_Train.head()"
      ],
      "execution_count": 29,
      "outputs": [
        {
          "output_type": "execute_result",
          "data": {
            "text/html": [
              "<div>\n",
              "<style scoped>\n",
              "    .dataframe tbody tr th:only-of-type {\n",
              "        vertical-align: middle;\n",
              "    }\n",
              "\n",
              "    .dataframe tbody tr th {\n",
              "        vertical-align: top;\n",
              "    }\n",
              "\n",
              "    .dataframe thead th {\n",
              "        text-align: right;\n",
              "    }\n",
              "</style>\n",
              "<table border=\"1\" class=\"dataframe\">\n",
              "  <thead>\n",
              "    <tr style=\"text-align: right;\">\n",
              "      <th></th>\n",
              "      <th>Loan_Amount_Requested</th>\n",
              "      <th>Length_Employed</th>\n",
              "      <th>Home_Owner</th>\n",
              "      <th>Annual_Income</th>\n",
              "      <th>Income_Verified</th>\n",
              "      <th>Purpose_Of_Loan</th>\n",
              "      <th>Debt_To_Income</th>\n",
              "      <th>Inquiries_Last_6Mo</th>\n",
              "      <th>Months_Since_Deliquency</th>\n",
              "      <th>Number_Open_Accounts</th>\n",
              "      <th>Total_Accounts</th>\n",
              "      <th>Gender</th>\n",
              "      <th>Interest_Rate</th>\n",
              "    </tr>\n",
              "  </thead>\n",
              "  <tbody>\n",
              "    <tr>\n",
              "      <th>0</th>\n",
              "      <td>0.188406</td>\n",
              "      <td>10</td>\n",
              "      <td>3</td>\n",
              "      <td>11.127263</td>\n",
              "      <td>2</td>\n",
              "      <td>0</td>\n",
              "      <td>18.37</td>\n",
              "      <td>0</td>\n",
              "      <td>17</td>\n",
              "      <td>9</td>\n",
              "      <td>12</td>\n",
              "      <td>0</td>\n",
              "      <td>1</td>\n",
              "    </tr>\n",
              "    <tr>\n",
              "      <th>1</th>\n",
              "      <td>0.855072</td>\n",
              "      <td>4</td>\n",
              "      <td>0</td>\n",
              "      <td>11.127263</td>\n",
              "      <td>0</td>\n",
              "      <td>2</td>\n",
              "      <td>14.93</td>\n",
              "      <td>0</td>\n",
              "      <td>17</td>\n",
              "      <td>12</td>\n",
              "      <td>22</td>\n",
              "      <td>0</td>\n",
              "      <td>3</td>\n",
              "    </tr>\n",
              "    <tr>\n",
              "      <th>2</th>\n",
              "      <td>0.702174</td>\n",
              "      <td>7</td>\n",
              "      <td>0</td>\n",
              "      <td>11.232767</td>\n",
              "      <td>1</td>\n",
              "      <td>2</td>\n",
              "      <td>15.88</td>\n",
              "      <td>0</td>\n",
              "      <td>17</td>\n",
              "      <td>12</td>\n",
              "      <td>14</td>\n",
              "      <td>1</td>\n",
              "      <td>3</td>\n",
              "    </tr>\n",
              "    <tr>\n",
              "      <th>3</th>\n",
              "      <td>0.449275</td>\n",
              "      <td>10</td>\n",
              "      <td>1</td>\n",
              "      <td>10.935960</td>\n",
              "      <td>1</td>\n",
              "      <td>2</td>\n",
              "      <td>14.34</td>\n",
              "      <td>3</td>\n",
              "      <td>17</td>\n",
              "      <td>16</td>\n",
              "      <td>20</td>\n",
              "      <td>1</td>\n",
              "      <td>3</td>\n",
              "    </tr>\n",
              "    <tr>\n",
              "      <th>4</th>\n",
              "      <td>0.478261</td>\n",
              "      <td>8</td>\n",
              "      <td>2</td>\n",
              "      <td>11.472103</td>\n",
              "      <td>1</td>\n",
              "      <td>2</td>\n",
              "      <td>22.17</td>\n",
              "      <td>1</td>\n",
              "      <td>17</td>\n",
              "      <td>19</td>\n",
              "      <td>28</td>\n",
              "      <td>0</td>\n",
              "      <td>1</td>\n",
              "    </tr>\n",
              "  </tbody>\n",
              "</table>\n",
              "</div>"
            ],
            "text/plain": [
              "   Loan_Amount_Requested  Length_Employed  ...  Gender  Interest_Rate\n",
              "0               0.188406               10  ...       0              1\n",
              "1               0.855072                4  ...       0              3\n",
              "2               0.702174                7  ...       1              3\n",
              "3               0.449275               10  ...       1              3\n",
              "4               0.478261                8  ...       0              1\n",
              "\n",
              "[5 rows x 13 columns]"
            ]
          },
          "metadata": {
            "tags": []
          },
          "execution_count": 29
        }
      ]
    },
    {
      "cell_type": "code",
      "metadata": {
        "id": "GYoLtMhREyMl",
        "colab_type": "code",
        "colab": {}
      },
      "source": [
        "x = df_Train\n",
        "#x = x.drop(['Loan_ID'], axis=1)\n",
        "x = x.drop(['Interest_Rate'], axis=1)\n",
        "y = df_Train['Interest_Rate']\n",
        "x_pred = df_Test\n",
        "x_pred = x_pred.drop(['Loan_ID'], axis=1)"
      ],
      "execution_count": 0,
      "outputs": []
    },
    {
      "cell_type": "code",
      "metadata": {
        "id": "EiaEdWnKF3We",
        "colab_type": "code",
        "colab": {
          "base_uri": "https://localhost:8080/",
          "height": 137
        },
        "outputId": "ee42b7e2-63d8-44d0-fb7d-c3271d6805d5"
      },
      "source": [
        "from imblearn.over_sampling import RandomOverSampler\n",
        "sm = RandomOverSampler(random_state=294,sampling_strategy='not majority')\n",
        "x_sm, y_sm = sm.fit_resample(x,y)\n",
        "x_sm = pd.DataFrame(x_sm)\n",
        "x_sm.columns = x.columns"
      ],
      "execution_count": 12,
      "outputs": [
        {
          "output_type": "stream",
          "text": [
            "/usr/local/lib/python3.6/dist-packages/sklearn/externals/six.py:31: FutureWarning: The module is deprecated in version 0.21 and will be removed in version 0.23 since we've dropped support for Python 2.7. Please rely on the official version of six (https://pypi.org/project/six/).\n",
            "  \"(https://pypi.org/project/six/).\", FutureWarning)\n",
            "/usr/local/lib/python3.6/dist-packages/sklearn/utils/deprecation.py:144: FutureWarning: The sklearn.neighbors.base module is  deprecated in version 0.22 and will be removed in version 0.24. The corresponding classes / functions should instead be imported from sklearn.neighbors. Anything that cannot be imported from sklearn.neighbors is now part of the private API.\n",
            "  warnings.warn(message, FutureWarning)\n",
            "/usr/local/lib/python3.6/dist-packages/sklearn/utils/deprecation.py:87: FutureWarning: Function safe_indexing is deprecated; safe_indexing is deprecated in version 0.22 and will be removed in version 0.24.\n",
            "  warnings.warn(msg, category=FutureWarning)\n"
          ],
          "name": "stderr"
        }
      ]
    },
    {
      "cell_type": "markdown",
      "metadata": {
        "id": "2QVU7jzzRP_w",
        "colab_type": "text"
      },
      "source": [
        "## LightGBM Modelling"
      ]
    },
    {
      "cell_type": "code",
      "metadata": {
        "id": "mxM2LhpWRS-m",
        "colab_type": "code",
        "colab": {}
      },
      "source": [
        "import lightgbm as lgb\n",
        "lgb_cl = lgb.LGBMClassifier(boosting_type='dart', learning_rate=0.15,\n",
        "                            num_leaves=300, max_depth=5, scale_pos_weight=2.5,  \n",
        "                            n_estimators=1000, objective='multiclass', \n",
        "                            importance_type='gain', max_bin=60, \n",
        "                            silent=True, random_state=294, n_jobs=-1, verbosity=-1,\n",
        "                            class_weight='balanced'\n",
        "                        )"
      ],
      "execution_count": 0,
      "outputs": []
    },
    {
      "cell_type": "code",
      "metadata": {
        "id": "a7xnYTK4hfFB",
        "colab_type": "code",
        "colab": {
          "base_uri": "https://localhost:8080/",
          "height": 150
        },
        "outputId": "28e553ed-454e-4dc9-ea3d-86a2ddb5cc6e"
      },
      "source": [
        "lgb_cl.fit(x_sm,np.ravel(y_sm))"
      ],
      "execution_count": 41,
      "outputs": [
        {
          "output_type": "execute_result",
          "data": {
            "text/plain": [
              "LGBMClassifier(boosting_type='dart', class_weight='balanced',\n",
              "               colsample_bytree=1.0, importance_type='gain', learning_rate=0.15,\n",
              "               max_bin=60, max_depth=5, min_child_samples=20,\n",
              "               min_child_weight=0.001, min_split_gain=0.0, n_estimators=1000,\n",
              "               n_jobs=-1, num_leaves=300, objective='multiclass',\n",
              "               random_state=294, reg_alpha=0.0, reg_lambda=0.0,\n",
              "               scale_pos_weight=2.5, silent=True, subsample=1.0,\n",
              "               subsample_for_bin=200000, subsample_freq=0, verbosity=-1)"
            ]
          },
          "metadata": {
            "tags": []
          },
          "execution_count": 41
        }
      ]
    },
    {
      "cell_type": "code",
      "metadata": {
        "id": "D7G1hcuhTtvl",
        "colab_type": "code",
        "colab": {}
      },
      "source": [
        "train_data = lgb.Dataset(x_sm,label=y_sm)"
      ],
      "execution_count": 0,
      "outputs": []
    },
    {
      "cell_type": "code",
      "metadata": {
        "id": "zV-FQRoyTyfQ",
        "colab_type": "code",
        "colab": {}
      },
      "source": [
        "param = {\n",
        "    'learning_rate':0.15,\n",
        "    'n_estimators':500,\n",
        "    'max_depth':5,\n",
        "    'boosting':'gbdt',\n",
        "    'num_class':3,\n",
        "    'objective':'multiclass',\n",
        "    'importance_type':'gain',\n",
        "    'silent':True,\n",
        "#    'random_state':294,\n",
        "#    'n_jobs':-1,\n",
        "    'class_weight':'balanced'\n",
        "#    'num_leaves':300,\n",
        "#    'max_bin':60,\n",
        "#    'bagging_fraction':0.9,\n",
        "#    'feature_fraction':0.9,\n",
        "#    'subsample_freq':2,\n",
        "#    'scale_pos_weight':2.5\n",
        "}"
      ],
      "execution_count": 0,
      "outputs": []
    },
    {
      "cell_type": "code",
      "metadata": {
        "id": "u6z2SiXAUpU5",
        "colab_type": "code",
        "colab": {
          "base_uri": "https://localhost:8080/",
          "height": 402
        },
        "outputId": "f684b29b-900c-4f22-bd87-e4f1aaab77bd"
      },
      "source": [
        "lgb_cv = lgb.cv(param,train_data, num_boost_round=10000, nfold=10, shuffle=True, \n",
        "                 metrics='F1_Score', stratified=True, verbose_eval=20, early_stopping_rounds=100)\n",
        "\n",
        "nround = lgb_cv['multi_logloss-mean'].index(np.min(lgb_cv['multi_logloss-mean']))\n",
        "print(nround)\n",
        "\n",
        "model = lgb.train(params, d_train, num_boost_round=nround)"
      ],
      "execution_count": 38,
      "outputs": [
        {
          "output_type": "stream",
          "text": [
            "/usr/local/lib/python3.6/dist-packages/lightgbm/engine.py:430: UserWarning: Found `n_estimators` in params. Will use it instead of argument\n",
            "  warnings.warn(\"Found `{}` in params. Will use it instead of argument\".format(alias))\n"
          ],
          "name": "stderr"
        },
        {
          "output_type": "error",
          "ename": "LightGBMError",
          "evalue": "ignored",
          "traceback": [
            "\u001b[0;31m---------------------------------------------------------------------------\u001b[0m",
            "\u001b[0;31mLightGBMError\u001b[0m                             Traceback (most recent call last)",
            "\u001b[0;32m<ipython-input-38-a1e471eb5531>\u001b[0m in \u001b[0;36m<module>\u001b[0;34m()\u001b[0m\n\u001b[1;32m      1\u001b[0m lgb_cv = lgb.cv(param,train_data, num_boost_round=10000, nfold=10, shuffle=True, \n\u001b[0;32m----> 2\u001b[0;31m                  metrics='F1_Score', stratified=True, verbose_eval=20, early_stopping_rounds=100)\n\u001b[0m\u001b[1;32m      3\u001b[0m \u001b[0;34m\u001b[0m\u001b[0m\n\u001b[1;32m      4\u001b[0m \u001b[0mnround\u001b[0m \u001b[0;34m=\u001b[0m \u001b[0mlgb_cv\u001b[0m\u001b[0;34m[\u001b[0m\u001b[0;34m'multi_logloss-mean'\u001b[0m\u001b[0;34m]\u001b[0m\u001b[0;34m.\u001b[0m\u001b[0mindex\u001b[0m\u001b[0;34m(\u001b[0m\u001b[0mnp\u001b[0m\u001b[0;34m.\u001b[0m\u001b[0mmin\u001b[0m\u001b[0;34m(\u001b[0m\u001b[0mlgb_cv\u001b[0m\u001b[0;34m[\u001b[0m\u001b[0;34m'multi_logloss-mean'\u001b[0m\u001b[0;34m]\u001b[0m\u001b[0;34m)\u001b[0m\u001b[0;34m)\u001b[0m\u001b[0;34m\u001b[0m\u001b[0;34m\u001b[0m\u001b[0m\n\u001b[1;32m      5\u001b[0m \u001b[0mprint\u001b[0m\u001b[0;34m(\u001b[0m\u001b[0mnround\u001b[0m\u001b[0;34m)\u001b[0m\u001b[0;34m\u001b[0m\u001b[0;34m\u001b[0m\u001b[0m\n",
            "\u001b[0;32m/usr/local/lib/python3.6/dist-packages/lightgbm/engine.py\u001b[0m in \u001b[0;36mcv\u001b[0;34m(params, train_set, num_boost_round, folds, nfold, stratified, shuffle, metrics, fobj, feval, init_model, feature_name, categorical_feature, early_stopping_rounds, fpreproc, verbose_eval, show_stdv, seed, callbacks)\u001b[0m\n\u001b[1;32m    456\u001b[0m     cvfolds = _make_n_folds(train_set, folds=folds, nfold=nfold,\n\u001b[1;32m    457\u001b[0m                             \u001b[0mparams\u001b[0m\u001b[0;34m=\u001b[0m\u001b[0mparams\u001b[0m\u001b[0;34m,\u001b[0m \u001b[0mseed\u001b[0m\u001b[0;34m=\u001b[0m\u001b[0mseed\u001b[0m\u001b[0;34m,\u001b[0m \u001b[0mfpreproc\u001b[0m\u001b[0;34m=\u001b[0m\u001b[0mfpreproc\u001b[0m\u001b[0;34m,\u001b[0m\u001b[0;34m\u001b[0m\u001b[0;34m\u001b[0m\u001b[0m\n\u001b[0;32m--> 458\u001b[0;31m                             stratified=stratified, shuffle=shuffle)\n\u001b[0m\u001b[1;32m    459\u001b[0m \u001b[0;34m\u001b[0m\u001b[0m\n\u001b[1;32m    460\u001b[0m     \u001b[0;31m# setup callbacks\u001b[0m\u001b[0;34m\u001b[0m\u001b[0;34m\u001b[0m\u001b[0;34m\u001b[0m\u001b[0m\n",
            "\u001b[0;32m/usr/local/lib/python3.6/dist-packages/lightgbm/engine.py\u001b[0m in \u001b[0;36m_make_n_folds\u001b[0;34m(full_data, folds, nfold, params, seed, fpreproc, stratified, shuffle)\u001b[0m\n\u001b[1;32m    315\u001b[0m         \u001b[0;32melse\u001b[0m\u001b[0;34m:\u001b[0m\u001b[0;34m\u001b[0m\u001b[0;34m\u001b[0m\u001b[0m\n\u001b[1;32m    316\u001b[0m             \u001b[0mtparam\u001b[0m \u001b[0;34m=\u001b[0m \u001b[0mparams\u001b[0m\u001b[0;34m\u001b[0m\u001b[0;34m\u001b[0m\u001b[0m\n\u001b[0;32m--> 317\u001b[0;31m         \u001b[0mcvbooster\u001b[0m \u001b[0;34m=\u001b[0m \u001b[0mBooster\u001b[0m\u001b[0;34m(\u001b[0m\u001b[0mtparam\u001b[0m\u001b[0;34m,\u001b[0m \u001b[0mtrain_set\u001b[0m\u001b[0;34m)\u001b[0m\u001b[0;34m\u001b[0m\u001b[0;34m\u001b[0m\u001b[0m\n\u001b[0m\u001b[1;32m    318\u001b[0m         \u001b[0mcvbooster\u001b[0m\u001b[0;34m.\u001b[0m\u001b[0madd_valid\u001b[0m\u001b[0;34m(\u001b[0m\u001b[0mvalid_set\u001b[0m\u001b[0;34m,\u001b[0m \u001b[0;34m'valid'\u001b[0m\u001b[0;34m)\u001b[0m\u001b[0;34m\u001b[0m\u001b[0;34m\u001b[0m\u001b[0m\n\u001b[1;32m    319\u001b[0m         \u001b[0mret\u001b[0m\u001b[0;34m.\u001b[0m\u001b[0mappend\u001b[0m\u001b[0;34m(\u001b[0m\u001b[0mcvbooster\u001b[0m\u001b[0;34m)\u001b[0m\u001b[0;34m\u001b[0m\u001b[0;34m\u001b[0m\u001b[0m\n",
            "\u001b[0;32m/usr/local/lib/python3.6/dist-packages/lightgbm/basic.py\u001b[0m in \u001b[0;36m__init__\u001b[0;34m(self, params, train_set, model_file, silent)\u001b[0m\n\u001b[1;32m   1550\u001b[0m             \u001b[0mself\u001b[0m\u001b[0;34m.\u001b[0m\u001b[0mhandle\u001b[0m \u001b[0;34m=\u001b[0m \u001b[0mctypes\u001b[0m\u001b[0;34m.\u001b[0m\u001b[0mc_void_p\u001b[0m\u001b[0;34m(\u001b[0m\u001b[0;34m)\u001b[0m\u001b[0;34m\u001b[0m\u001b[0;34m\u001b[0m\u001b[0m\n\u001b[1;32m   1551\u001b[0m             _safe_call(_LIB.LGBM_BoosterCreate(\n\u001b[0;32m-> 1552\u001b[0;31m                 \u001b[0mtrain_set\u001b[0m\u001b[0;34m.\u001b[0m\u001b[0mconstruct\u001b[0m\u001b[0;34m(\u001b[0m\u001b[0;34m)\u001b[0m\u001b[0;34m.\u001b[0m\u001b[0mhandle\u001b[0m\u001b[0;34m,\u001b[0m\u001b[0;34m\u001b[0m\u001b[0;34m\u001b[0m\u001b[0m\n\u001b[0m\u001b[1;32m   1553\u001b[0m                 \u001b[0mc_str\u001b[0m\u001b[0;34m(\u001b[0m\u001b[0mparams_str\u001b[0m\u001b[0;34m)\u001b[0m\u001b[0;34m,\u001b[0m\u001b[0;34m\u001b[0m\u001b[0;34m\u001b[0m\u001b[0m\n\u001b[1;32m   1554\u001b[0m                 ctypes.byref(self.handle)))\n",
            "\u001b[0;32m/usr/local/lib/python3.6/dist-packages/lightgbm/basic.py\u001b[0m in \u001b[0;36mconstruct\u001b[0;34m(self)\u001b[0m\n\u001b[1;32m    986\u001b[0m                         \u001b[0mctypes\u001b[0m\u001b[0;34m.\u001b[0m\u001b[0mc_int\u001b[0m\u001b[0;34m(\u001b[0m\u001b[0mused_indices\u001b[0m\u001b[0;34m.\u001b[0m\u001b[0mshape\u001b[0m\u001b[0;34m[\u001b[0m\u001b[0;36m0\u001b[0m\u001b[0;34m]\u001b[0m\u001b[0;34m)\u001b[0m\u001b[0;34m,\u001b[0m\u001b[0;34m\u001b[0m\u001b[0;34m\u001b[0m\u001b[0m\n\u001b[1;32m    987\u001b[0m                         \u001b[0mc_str\u001b[0m\u001b[0;34m(\u001b[0m\u001b[0mparams_str\u001b[0m\u001b[0;34m)\u001b[0m\u001b[0;34m,\u001b[0m\u001b[0;34m\u001b[0m\u001b[0;34m\u001b[0m\u001b[0m\n\u001b[0;32m--> 988\u001b[0;31m                         ctypes.byref(self.handle)))\n\u001b[0m\u001b[1;32m    989\u001b[0m                     \u001b[0mself\u001b[0m\u001b[0;34m.\u001b[0m\u001b[0mdata\u001b[0m \u001b[0;34m=\u001b[0m \u001b[0mself\u001b[0m\u001b[0;34m.\u001b[0m\u001b[0mreference\u001b[0m\u001b[0;34m.\u001b[0m\u001b[0mdata\u001b[0m\u001b[0;34m\u001b[0m\u001b[0;34m\u001b[0m\u001b[0m\n\u001b[1;32m    990\u001b[0m                     \u001b[0mself\u001b[0m\u001b[0;34m.\u001b[0m\u001b[0mget_data\u001b[0m\u001b[0;34m(\u001b[0m\u001b[0;34m)\u001b[0m\u001b[0;34m\u001b[0m\u001b[0;34m\u001b[0m\u001b[0m\n",
            "\u001b[0;32m/usr/local/lib/python3.6/dist-packages/lightgbm/basic.py\u001b[0m in \u001b[0;36m_safe_call\u001b[0;34m(ret)\u001b[0m\n\u001b[1;32m     44\u001b[0m     \"\"\"\n\u001b[1;32m     45\u001b[0m     \u001b[0;32mif\u001b[0m \u001b[0mret\u001b[0m \u001b[0;34m!=\u001b[0m \u001b[0;36m0\u001b[0m\u001b[0;34m:\u001b[0m\u001b[0;34m\u001b[0m\u001b[0;34m\u001b[0m\u001b[0m\n\u001b[0;32m---> 46\u001b[0;31m         \u001b[0;32mraise\u001b[0m \u001b[0mLightGBMError\u001b[0m\u001b[0;34m(\u001b[0m\u001b[0mdecode_string\u001b[0m\u001b[0;34m(\u001b[0m\u001b[0m_LIB\u001b[0m\u001b[0;34m.\u001b[0m\u001b[0mLGBM_GetLastError\u001b[0m\u001b[0;34m(\u001b[0m\u001b[0;34m)\u001b[0m\u001b[0;34m)\u001b[0m\u001b[0;34m)\u001b[0m\u001b[0;34m\u001b[0m\u001b[0;34m\u001b[0m\u001b[0m\n\u001b[0m\u001b[1;32m     47\u001b[0m \u001b[0;34m\u001b[0m\u001b[0m\n\u001b[1;32m     48\u001b[0m \u001b[0;34m\u001b[0m\u001b[0m\n",
            "\u001b[0;31mLightGBMError\u001b[0m: Multiclass objective and metrics don't match"
          ]
        }
      ]
    },
    {
      "cell_type": "code",
      "metadata": {
        "id": "MiLDwUxzXUQZ",
        "colab_type": "code",
        "colab": {}
      },
      "source": [
        "y_pred = lgb_cl.predict(x_pred)"
      ],
      "execution_count": 0,
      "outputs": []
    },
    {
      "cell_type": "code",
      "metadata": {
        "id": "k0QYaCfFloxD",
        "colab_type": "code",
        "colab": {
          "base_uri": "https://localhost:8080/",
          "height": 33
        },
        "outputId": "9c8188a4-3881-4536-d528-81440c09b299"
      },
      "source": [
        "y_pred"
      ],
      "execution_count": 43,
      "outputs": [
        {
          "output_type": "execute_result",
          "data": {
            "text/plain": [
              "array([1, 1, 3, ..., 2, 3, 1])"
            ]
          },
          "metadata": {
            "tags": []
          },
          "execution_count": 43
        }
      ]
    },
    {
      "cell_type": "code",
      "metadata": {
        "id": "WniKEoOlXYxQ",
        "colab_type": "code",
        "colab": {}
      },
      "source": [
        "#converting probabilities into 0 or 1\n",
        "for i in range(0,23490):\n",
        "    if y_pred[i]>=.5:       # setting threshold to .5\n",
        "       y_pred[i]=1\n",
        "    else:  \n",
        "       y_pred[i]=0"
      ],
      "execution_count": 0,
      "outputs": []
    },
    {
      "cell_type": "code",
      "metadata": {
        "id": "q7eJBjAFXfQn",
        "colab_type": "code",
        "colab": {}
      },
      "source": [
        "submission_df = pd.DataFrame({'Loan_ID':df_Test['Loan_ID'], 'Interest_Rate':y_pred})\n",
        "submission_df.to_csv('Sample Submission lgbv1.csv', index=False)"
      ],
      "execution_count": 0,
      "outputs": []
    },
    {
      "cell_type": "markdown",
      "metadata": {
        "id": "-om6KxpKWGv-",
        "colab_type": "text"
      },
      "source": [
        "## xgBoost"
      ]
    },
    {
      "cell_type": "code",
      "metadata": {
        "id": "Ki05nVZfWI-y",
        "colab_type": "code",
        "colab": {}
      },
      "source": [
        "import xgboost as xgb\n",
        "xg_cl = xgb.XGBClassifier(objective='multi:softmax', booster='gbtree', learning_rate=0.1, max_depth=6, \n",
        "                          #subsample=0.90, gamma=0.1, \n",
        "                          n_estimator=1000, tree_method='hist', eval_metric='mlogloss',\n",
        "                          #scale_pos_weight=1.5, base_score=0.2, updater=\"grow_histmaker\",\n",
        "                          silent=0, verbosity=0, n_jobs=-1, random_state=294, seed=200) "
      ],
      "execution_count": 0,
      "outputs": []
    },
    {
      "cell_type": "code",
      "metadata": {
        "id": "jnskzZYGYFlH",
        "colab_type": "code",
        "colab": {
          "base_uri": "https://localhost:8080/",
          "height": 150
        },
        "outputId": "53f6f3ae-ae6d-4dac-d700-ca5a13c2d938"
      },
      "source": [
        "xg_cl.fit(x_sm,np.ravel(y_sm))"
      ],
      "execution_count": 29,
      "outputs": [
        {
          "output_type": "execute_result",
          "data": {
            "text/plain": [
              "XGBClassifier(base_score=0.5, booster='gbtree', colsample_bylevel=1,\n",
              "              colsample_bynode=1, colsample_bytree=1, eval_metric='mlogloss',\n",
              "              gamma=0, learning_rate=0.1, max_delta_step=0, max_depth=6,\n",
              "              min_child_weight=1, missing=None, n_estimator=1000,\n",
              "              n_estimators=100, n_jobs=-1, nthread=None,\n",
              "              objective='multi:softprob', random_state=294, reg_alpha=0,\n",
              "              reg_lambda=1, scale_pos_weight=1, seed=200, silent=0, subsample=1,\n",
              "              tree_method='hist', verbosity=0)"
            ]
          },
          "metadata": {
            "tags": []
          },
          "execution_count": 29
        }
      ]
    },
    {
      "cell_type": "code",
      "metadata": {
        "id": "e7vPSo99YIpb",
        "colab_type": "code",
        "colab": {}
      },
      "source": [
        "y_pred = xg_cl.predict(x_pred)"
      ],
      "execution_count": 0,
      "outputs": []
    },
    {
      "cell_type": "code",
      "metadata": {
        "id": "009cf2MUYKa9",
        "colab_type": "code",
        "colab": {}
      },
      "source": [
        "submission_df = pd.DataFrame({'Loan_ID':df_Test['Loan_ID'], 'Interest_Rate':y_pred})\n",
        "submission_df.to_csv('Sample Submission xgbootv1.csv', index=False)"
      ],
      "execution_count": 0,
      "outputs": []
    },
    {
      "cell_type": "markdown",
      "metadata": {
        "id": "5D-2fptibyIi",
        "colab_type": "text"
      },
      "source": [
        "## CatBoost Modelling"
      ]
    },
    {
      "cell_type": "code",
      "metadata": {
        "id": "AE8F3yUGb0xm",
        "colab_type": "code",
        "colab": {
          "base_uri": "https://localhost:8080/",
          "height": 337
        },
        "outputId": "887a5217-7bbf-4cfb-b0fd-f167c4b09a0d"
      },
      "source": [
        "pip install catboost"
      ],
      "execution_count": 32,
      "outputs": [
        {
          "output_type": "stream",
          "text": [
            "Collecting catboost\n",
            "\u001b[?25l  Downloading https://files.pythonhosted.org/packages/b2/aa/e61819d04ef2bbee778bf4b3a748db1f3ad23512377e43ecfdc3211437a0/catboost-0.23.2-cp36-none-manylinux1_x86_64.whl (64.8MB)\n",
            "\u001b[K     |████████████████████████████████| 64.8MB 61kB/s \n",
            "\u001b[?25hRequirement already satisfied: six in /usr/local/lib/python3.6/dist-packages (from catboost) (1.12.0)\n",
            "Requirement already satisfied: pandas>=0.24.0 in /usr/local/lib/python3.6/dist-packages (from catboost) (1.0.3)\n",
            "Requirement already satisfied: numpy>=1.16.0 in /usr/local/lib/python3.6/dist-packages (from catboost) (1.18.4)\n",
            "Requirement already satisfied: plotly in /usr/local/lib/python3.6/dist-packages (from catboost) (4.4.1)\n",
            "Requirement already satisfied: scipy in /usr/local/lib/python3.6/dist-packages (from catboost) (1.4.1)\n",
            "Requirement already satisfied: graphviz in /usr/local/lib/python3.6/dist-packages (from catboost) (0.10.1)\n",
            "Requirement already satisfied: matplotlib in /usr/local/lib/python3.6/dist-packages (from catboost) (3.2.1)\n",
            "Requirement already satisfied: pytz>=2017.2 in /usr/local/lib/python3.6/dist-packages (from pandas>=0.24.0->catboost) (2018.9)\n",
            "Requirement already satisfied: python-dateutil>=2.6.1 in /usr/local/lib/python3.6/dist-packages (from pandas>=0.24.0->catboost) (2.8.1)\n",
            "Requirement already satisfied: retrying>=1.3.3 in /usr/local/lib/python3.6/dist-packages (from plotly->catboost) (1.3.3)\n",
            "Requirement already satisfied: kiwisolver>=1.0.1 in /usr/local/lib/python3.6/dist-packages (from matplotlib->catboost) (1.2.0)\n",
            "Requirement already satisfied: cycler>=0.10 in /usr/local/lib/python3.6/dist-packages (from matplotlib->catboost) (0.10.0)\n",
            "Requirement already satisfied: pyparsing!=2.0.4,!=2.1.2,!=2.1.6,>=2.0.1 in /usr/local/lib/python3.6/dist-packages (from matplotlib->catboost) (2.4.7)\n",
            "Installing collected packages: catboost\n",
            "Successfully installed catboost-0.23.2\n"
          ],
          "name": "stdout"
        }
      ]
    },
    {
      "cell_type": "code",
      "metadata": {
        "id": "MjG4VWj3b3u9",
        "colab_type": "code",
        "colab": {}
      },
      "source": [
        "from catboost import CatBoostClassifier\n",
        "cb_cl = CatBoostClassifier(learning_rate=0.1, n_estimators=1000, subsample=0.70, max_depth=5) "
      ],
      "execution_count": 0,
      "outputs": []
    },
    {
      "cell_type": "code",
      "metadata": {
        "id": "MJmFnarIb-tt",
        "colab_type": "code",
        "colab": {
          "base_uri": "https://localhost:8080/",
          "height": 389
        },
        "outputId": "66f10bd5-ba2e-4a10-c1ee-2c4b97dfebe1"
      },
      "source": [
        "cb_cl.fit(x,np.ravel(y))"
      ],
      "execution_count": 37,
      "outputs": [
        {
          "output_type": "error",
          "ename": "CatBoostError",
          "evalue": "ignored",
          "traceback": [
            "\u001b[0;31m---------------------------------------------------------------------------\u001b[0m",
            "\u001b[0;31mCatBoostError\u001b[0m                             Traceback (most recent call last)",
            "\u001b[0;32m<ipython-input-37-ff8262d92262>\u001b[0m in \u001b[0;36m<module>\u001b[0;34m()\u001b[0m\n\u001b[0;32m----> 1\u001b[0;31m \u001b[0mcb_cl\u001b[0m\u001b[0;34m.\u001b[0m\u001b[0mfit\u001b[0m\u001b[0;34m(\u001b[0m\u001b[0mx\u001b[0m\u001b[0;34m,\u001b[0m\u001b[0mnp\u001b[0m\u001b[0;34m.\u001b[0m\u001b[0mravel\u001b[0m\u001b[0;34m(\u001b[0m\u001b[0my\u001b[0m\u001b[0;34m)\u001b[0m\u001b[0;34m)\u001b[0m\u001b[0;34m\u001b[0m\u001b[0;34m\u001b[0m\u001b[0m\n\u001b[0m",
            "\u001b[0;32m/usr/local/lib/python3.6/dist-packages/catboost/core.py\u001b[0m in \u001b[0;36mfit\u001b[0;34m(self, X, y, cat_features, text_features, sample_weight, baseline, use_best_model, eval_set, verbose, logging_level, plot, column_description, verbose_eval, metric_period, silent, early_stopping_rounds, save_snapshot, snapshot_file, snapshot_interval, init_model)\u001b[0m\n\u001b[1;32m   4113\u001b[0m         self._fit(X, y, cat_features, text_features, None, sample_weight, None, None, None, None, baseline, use_best_model,\n\u001b[1;32m   4114\u001b[0m                   \u001b[0meval_set\u001b[0m\u001b[0;34m,\u001b[0m \u001b[0mverbose\u001b[0m\u001b[0;34m,\u001b[0m \u001b[0mlogging_level\u001b[0m\u001b[0;34m,\u001b[0m \u001b[0mplot\u001b[0m\u001b[0;34m,\u001b[0m \u001b[0mcolumn_description\u001b[0m\u001b[0;34m,\u001b[0m \u001b[0mverbose_eval\u001b[0m\u001b[0;34m,\u001b[0m \u001b[0mmetric_period\u001b[0m\u001b[0;34m,\u001b[0m\u001b[0;34m\u001b[0m\u001b[0;34m\u001b[0m\u001b[0m\n\u001b[0;32m-> 4115\u001b[0;31m                   silent, early_stopping_rounds, save_snapshot, snapshot_file, snapshot_interval, init_model)\n\u001b[0m\u001b[1;32m   4116\u001b[0m         \u001b[0;32mreturn\u001b[0m \u001b[0mself\u001b[0m\u001b[0;34m\u001b[0m\u001b[0;34m\u001b[0m\u001b[0m\n\u001b[1;32m   4117\u001b[0m \u001b[0;34m\u001b[0m\u001b[0m\n",
            "\u001b[0;32m/usr/local/lib/python3.6/dist-packages/catboost/core.py\u001b[0m in \u001b[0;36m_fit\u001b[0;34m(self, X, y, cat_features, text_features, pairs, sample_weight, group_id, group_weight, subgroup_id, pairs_weight, baseline, use_best_model, eval_set, verbose, logging_level, plot, column_description, verbose_eval, metric_period, silent, early_stopping_rounds, save_snapshot, snapshot_file, snapshot_interval, init_model)\u001b[0m\n\u001b[1;32m   1729\u001b[0m             \u001b[0muse_best_model\u001b[0m\u001b[0;34m,\u001b[0m \u001b[0meval_set\u001b[0m\u001b[0;34m,\u001b[0m \u001b[0mverbose\u001b[0m\u001b[0;34m,\u001b[0m \u001b[0mlogging_level\u001b[0m\u001b[0;34m,\u001b[0m \u001b[0mplot\u001b[0m\u001b[0;34m,\u001b[0m\u001b[0;34m\u001b[0m\u001b[0;34m\u001b[0m\u001b[0m\n\u001b[1;32m   1730\u001b[0m             \u001b[0mcolumn_description\u001b[0m\u001b[0;34m,\u001b[0m \u001b[0mverbose_eval\u001b[0m\u001b[0;34m,\u001b[0m \u001b[0mmetric_period\u001b[0m\u001b[0;34m,\u001b[0m \u001b[0msilent\u001b[0m\u001b[0;34m,\u001b[0m \u001b[0mearly_stopping_rounds\u001b[0m\u001b[0;34m,\u001b[0m\u001b[0;34m\u001b[0m\u001b[0;34m\u001b[0m\u001b[0m\n\u001b[0;32m-> 1731\u001b[0;31m             \u001b[0msave_snapshot\u001b[0m\u001b[0;34m,\u001b[0m \u001b[0msnapshot_file\u001b[0m\u001b[0;34m,\u001b[0m \u001b[0msnapshot_interval\u001b[0m\u001b[0;34m,\u001b[0m \u001b[0minit_model\u001b[0m\u001b[0;34m\u001b[0m\u001b[0;34m\u001b[0m\u001b[0m\n\u001b[0m\u001b[1;32m   1732\u001b[0m         )\n\u001b[1;32m   1733\u001b[0m         \u001b[0mparams\u001b[0m \u001b[0;34m=\u001b[0m \u001b[0mtrain_params\u001b[0m\u001b[0;34m[\u001b[0m\u001b[0;34m\"params\"\u001b[0m\u001b[0;34m]\u001b[0m\u001b[0;34m\u001b[0m\u001b[0;34m\u001b[0m\u001b[0m\n",
            "\u001b[0;32m/usr/local/lib/python3.6/dist-packages/catboost/core.py\u001b[0m in \u001b[0;36m_prepare_train_params\u001b[0;34m(self, X, y, cat_features, text_features, pairs, sample_weight, group_id, group_weight, subgroup_id, pairs_weight, baseline, use_best_model, eval_set, verbose, logging_level, plot, column_description, verbose_eval, metric_period, silent, early_stopping_rounds, save_snapshot, snapshot_file, snapshot_interval, init_model)\u001b[0m\n\u001b[1;32m   1657\u001b[0m         \u001b[0m_check_param_types\u001b[0m\u001b[0;34m(\u001b[0m\u001b[0mparams\u001b[0m\u001b[0;34m)\u001b[0m\u001b[0;34m\u001b[0m\u001b[0;34m\u001b[0m\u001b[0m\n\u001b[1;32m   1658\u001b[0m         \u001b[0mparams\u001b[0m \u001b[0;34m=\u001b[0m \u001b[0m_params_type_cast\u001b[0m\u001b[0;34m(\u001b[0m\u001b[0mparams\u001b[0m\u001b[0;34m)\u001b[0m\u001b[0;34m\u001b[0m\u001b[0;34m\u001b[0m\u001b[0m\n\u001b[0;32m-> 1659\u001b[0;31m         \u001b[0m_check_train_params\u001b[0m\u001b[0;34m(\u001b[0m\u001b[0mparams\u001b[0m\u001b[0;34m)\u001b[0m\u001b[0;34m\u001b[0m\u001b[0;34m\u001b[0m\u001b[0m\n\u001b[0m\u001b[1;32m   1660\u001b[0m \u001b[0;34m\u001b[0m\u001b[0m\n\u001b[1;32m   1661\u001b[0m         \u001b[0meval_set_list\u001b[0m \u001b[0;34m=\u001b[0m \u001b[0meval_set\u001b[0m \u001b[0;32mif\u001b[0m \u001b[0misinstance\u001b[0m\u001b[0;34m(\u001b[0m\u001b[0meval_set\u001b[0m\u001b[0;34m,\u001b[0m \u001b[0mlist\u001b[0m\u001b[0;34m)\u001b[0m \u001b[0;32melse\u001b[0m \u001b[0;34m[\u001b[0m\u001b[0meval_set\u001b[0m\u001b[0;34m]\u001b[0m\u001b[0;34m\u001b[0m\u001b[0;34m\u001b[0m\u001b[0m\n",
            "\u001b[0;32m_catboost.pyx\u001b[0m in \u001b[0;36m_catboost._check_train_params\u001b[0;34m()\u001b[0m\n",
            "\u001b[0;32m_catboost.pyx\u001b[0m in \u001b[0;36m_catboost._check_train_params\u001b[0;34m()\u001b[0m\n",
            "\u001b[0;31mCatBoostError\u001b[0m: catboost/private/libs/options/catboost_options.cpp:720: Error: default bootstrap type (bayesian) doesn't support taken fraction option"
          ]
        }
      ]
    },
    {
      "cell_type": "code",
      "metadata": {
        "id": "_xdN-glicEbn",
        "colab_type": "code",
        "colab": {}
      },
      "source": [
        "y_pred = cb_cl.predict(x_pred)"
      ],
      "execution_count": 0,
      "outputs": []
    },
    {
      "cell_type": "code",
      "metadata": {
        "id": "2hJ2SjgLcHBE",
        "colab_type": "code",
        "colab": {}
      },
      "source": [
        "submission_df = pd.DataFrame({'Loan_ID':df_Test['Loan_ID'], 'Interest_Rate':y_pred})\n",
        "submission_df.to_csv('Sample Submission xgbootv1.csv', index=False)"
      ],
      "execution_count": 0,
      "outputs": []
    }
  ]
}